{
  "nbformat": 4,
  "nbformat_minor": 0,
  "metadata": {
    "colab": {
      "name": "PDS_chap_11.ipynb",
      "provenance": [],
      "collapsed_sections": []
    },
    "kernelspec": {
      "name": "python3",
      "display_name": "Python 3"
    },
    "language_info": {
      "name": "python"
    }
  },
  "cells": [
    {
      "cell_type": "markdown",
      "source": [
        "# Chapter 11 가중치 그래프"
      ],
      "metadata": {
        "id": "99vAVpNfodpR"
      }
    },
    {
      "cell_type": "markdown",
      "source": [
        "## 11.2 가중치 그래프의 표현\n",
        "* 인접 행렬을 통한\n",
        "* 인접 리스트를 통한"
      ],
      "metadata": {
        "id": "vWV3G3A9ojBI"
      }
    },
    {
      "cell_type": "markdown",
      "source": [
        "### 인접 행렬: 간단한 연산"
      ],
      "metadata": {
        "id": "qfHtLFRXpQ2Z"
      }
    },
    {
      "cell_type": "code",
      "execution_count": 6,
      "metadata": {
        "id": "j7oC23TqobCf"
      },
      "outputs": [],
      "source": [
        "# 가중치의 합\n",
        "def weightSum(vlist, W):\n",
        "    sum = 0\n",
        "    for i in range(len(vlist)):\n",
        "        for j in range(i+1, len(vlist)):\n",
        "            if W[i][j] != None:\n",
        "                sum += W[i][j]\n",
        "    return sum"
      ]
    },
    {
      "cell_type": "code",
      "source": [
        "# 모든 간선 출력\n",
        "def printAllEdges(vlist, W):\n",
        "    for i in range(len(vlist)):\n",
        "        for j in range(i+1, len(W[i])):\n",
        "            if W[i][j] != None and W[i][j] != 0:\n",
        "                print(f\"({vlist[i]}, {vlist[j]}, {W[i][j]}\")\n",
        "    print()"
      ],
      "metadata": {
        "id": "hWFfmAWIpVEP"
      },
      "execution_count": 7,
      "outputs": []
    },
    {
      "cell_type": "markdown",
      "source": [
        "### 인접 리스트: 간단한 연산"
      ],
      "metadata": {
        "id": "ZzhczJnepzij"
      }
    },
    {
      "cell_type": "code",
      "source": [
        "# 가중치의 합\n",
        "def weightSum(graph):\n",
        "    sum = 0\n",
        "    for v in graph:\n",
        "        for e in graph[v]:\n",
        "            sum += e[1]\n",
        "    return sum//2"
      ],
      "metadata": {
        "id": "J-nPZDFcpt77"
      },
      "execution_count": 8,
      "outputs": []
    },
    {
      "cell_type": "markdown",
      "source": [
        "## 11.3 최소비용 신장트리"
      ],
      "metadata": {
        "id": "EvLmVxZGu8H1"
      }
    },
    {
      "cell_type": "markdown",
      "source": [
        "### Kruskal 알고리즘\n",
        "    kruskal()\n",
        "    1. 그래프의 모든"
      ],
      "metadata": {
        "id": "aLu12COKvAgT"
      }
    },
    {
      "cell_type": "markdown",
      "source": [
        "union-find 구현"
      ],
      "metadata": {
        "id": "gYU_XP7JvKX6"
      }
    },
    {
      "cell_type": "code",
      "source": [
        "parent = []\n",
        "set_size = 0\n",
        "\n",
        "def init_set(nSets): # 집합의 초기화 함수\n",
        "    global set_size, parent\n",
        "    set_size = nSets;\n",
        "    for i in range(nSets):\n",
        "        parent.append(-1)  # 각각이 고유의 집합(부모가 -1)\n",
        "\n",
        "def find(id): # 정점 id가 속한 집합의 대표번호 탐색\n",
        "    while parent[id] >= 0:\n",
        "        id = parent[id]\n",
        "    return id\n",
        "\n",
        "def union(s1, s2): # 두 집합을 병합(s1을 s2에 병합시킴)\n",
        "    global set_size\n",
        "    parent[s1] = s2\n",
        "    set_size = set_size - 1 # 집합의 개수가 줄어듬"
      ],
      "metadata": {
        "id": "SWfv3-urqJbp"
      },
      "execution_count": 17,
      "outputs": []
    },
    {
      "cell_type": "markdown",
      "source": [
        "Kruskal의 MST 알고리즘"
      ],
      "metadata": {
        "id": "uENMr7mrwfrX"
      }
    },
    {
      "cell_type": "code",
      "source": [
        "def MSTKruskal(vertex, adj):    # 매개변수: 정점리스트, 인접행렬\n",
        "    vsize = len(vertex)         # 정점의 개수\n",
        "    init_set(vsize)             # 정점 집합 초기화\n",
        "    eList = []                  # 간선 리스트\n",
        "\n",
        "    for i in range(vsize):      # 모든 간선을 리스트에 넣음\n",
        "        for j in range(i+1, vsize):\n",
        "            if adj[i][j] != None:\n",
        "                eList.append((i, j, adj[i][j])) # 튜플로 저장\n",
        "\n",
        "    # 간선 리스트를 가중치의 내림차순으로 정렬: 람다 함수 사용\n",
        "    eList.sort(key = lambda e : e[2], reverse=True)\n",
        "\n",
        "    edgeAccepted = 0\n",
        "    while edgeAccepted < vsize -1:\n",
        "        e = eList.pop(-1)\n",
        "        uset = find(e[0])\n",
        "        vset = find(e[1])\n",
        "\n",
        "        if uset != vset:\n",
        "            print(f\"간선 추가 : ({vertex[e[0]]}, {vertex[e[1]]}, {e[2]})\")\n",
        "            union(uset, vset)\n",
        "            edgeAccepted += 1"
      ],
      "metadata": {
        "id": "bnzdaf-CwPO0"
      },
      "execution_count": 18,
      "outputs": []
    },
    {
      "cell_type": "markdown",
      "source": [
        "테스트"
      ],
      "metadata": {
        "id": "a0JoJgrEyhHt"
      }
    },
    {
      "cell_type": "code",
      "source": [
        "vertex =   ['A',    'B',    'C',    'D',    'E',    'F',    'G' ]\n",
        "weight = [ [None,\t29,\t\tNone,\tNone,\tNone,   10,\t\tNone],\n",
        "           [29,\tNone,\t16,\t\tNone,\tNone,\tNone,\t15  ],\n",
        "           [None,\t16,\t\tNone,\t12,\t\tNone,\tNone,\tNone],\n",
        "           [None,\tNone,   12,\t\tNone,\t22,\t\tNone,\t18  ],\n",
        "           [None,\tNone,\tNone,   22,\t\tNone,\t27,\t\t25  ],\n",
        "           [10,\tNone,\tNone,\tNone,   27,\t\tNone,\tNone],\n",
        "           [None,  15,\t\tNone,   18,\t\t25,\t\tNone,\tNone]]    \n",
        "\n",
        "print(\"MST By Kruskal's Algorithm\")\n",
        "MSTKruskal(vertex, weight)"
      ],
      "metadata": {
        "id": "MaUZCHVmyRsD",
        "colab": {
          "base_uri": "https://localhost:8080/"
        },
        "outputId": "71b010a5-09e7-488f-97d6-05e9b45e4e92"
      },
      "execution_count": 19,
      "outputs": [
        {
          "output_type": "stream",
          "name": "stdout",
          "text": [
            "MST By Kruskal's Algorithm\n",
            "간선 추가 : (A, F, 10)\n",
            "간선 추가 : (C, D, 12)\n",
            "간선 추가 : (B, G, 15)\n",
            "간선 추가 : (B, C, 16)\n",
            "간선 추가 : (D, E, 22)\n",
            "간선 추가 : (E, F, 27)\n"
          ]
        }
      ]
    }
  ]
}