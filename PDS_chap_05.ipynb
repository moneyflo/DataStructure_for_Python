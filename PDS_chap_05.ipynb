{
  "nbformat": 4,
  "nbformat_minor": 0,
  "metadata": {
    "colab": {
      "name": "PDS_chap_05.ipynb",
      "provenance": [],
      "collapsed_sections": []
    },
    "kernelspec": {
      "name": "python3",
      "display_name": "Python 3"
    },
    "language_info": {
      "name": "python"
    }
  },
  "cells": [
    {
      "cell_type": "markdown",
      "metadata": {
        "id": "TZzzw0gkDGcv"
      },
      "source": [
        "# Chapter 5 큐와 덱"
      ]
    },
    {
      "cell_type": "markdown",
      "metadata": {
        "id": "_8LCuWrq2w2F"
      },
      "source": [
        "### 큐 ADT\n",
        "    데이터 : FIFO의 접근 방법을 유지하는 항목들의 모음\n",
        "    연산\n",
        "    * Queue() : 비어 있는 새로운 큐를 만든다.\n",
        "    * isEmpty() : 큐가 비어있으면 True를 아니면 False를 반환\n",
        "    * enqueue(x) : 항목 x를 큐의 맨 뒤에 추가\n",
        "    * dequeue() : 큐의 맨 앞에 있는 항목을 꺼내 반환\n",
        "    * peek() : 큐의 맨 앞에 있는 항목을 삭제하지 않고 반환\n",
        "    * size() : 큐내의 모든 항목들의 개수 반환\n",
        "    * clear() : 큐를 공백상태로 만듬"
      ]
    },
    {
      "cell_type": "markdown",
      "metadata": {
        "id": "KFKG-_Oh3fPE"
      },
      "source": [
        "### 선형큐의 문제점\n",
        "* 삽입연산 O(1) but 삭제 연산 O(n)"
      ]
    },
    {
      "cell_type": "markdown",
      "metadata": {
        "id": "74uIwOlV306m"
      },
      "source": [
        "### 공백상태와 포화상태\n",
        "* 공백상태: front == rear\n",
        "* 포화상태: front % M == (rear+1) % M"
      ]
    },
    {
      "cell_type": "markdown",
      "metadata": {
        "id": "NhlmzgzM4SNQ"
      },
      "source": [
        "### 원형 큐의 구현\n",
        "* 파이썬 리스트 사용\n",
        "* 리스트의 크기가 미리 결정되어야 함 -> 포화상태 존재\n",
        "* 원형큐 클래스"
      ]
    },
    {
      "cell_type": "code",
      "metadata": {
        "id": "lCXTl29xA2gH"
      },
      "source": [
        "MAX_QSIZE = 10\n",
        "class CircularQueue:\n",
        "    def __init__(self):\n",
        "        self.front = 0\n",
        "        self.rear = 0\n",
        "        self.items = [None] * MAX_QSIZE\n",
        "    def isEmpty(self):\n",
        "        return self.front == self.rear\n",
        "    def isFull(self): return self.front == (self.rear+1) % MAX_QSIZE\n",
        "    def clear(self): self.front = self.rear\n",
        "    \n",
        "    # 연산\n",
        "    def enqueue(self, item):\n",
        "        if not self.isFull():\n",
        "            self.rear = (self.rear+1)%MAX_QSIZE\n",
        "            self.items[self.rear] = item\n",
        "    def dequeue(self):\n",
        "        if not self.isEmpty():\n",
        "            self.front = (self.front+1)%MAX_QSIZE\n",
        "            return self.items[self.front]\n",
        "    def peek(self):\n",
        "        if not self.isEmpty():\n",
        "            return self.items[(self.front+1)%MAX_QSIZE]\n",
        "    def size(self):\n",
        "        return (self.rear - self.front + MAX_QSIZE)%MAX_QSIZE\n",
        "    \n",
        "    # 출력\n",
        "    def display(self):\n",
        "        out = []\n",
        "        if self. front < self.rear:\n",
        "            out = self.items[self.front+1:self.rear+1]\n",
        "        else:\n",
        "            out = self.items[self.front+1:MAX_QSIZE] + self.items[0:self.rear+1]\n",
        "        print(f\"[f={self.front}, r={self.rear}]\", out)"
      ],
      "execution_count": null,
      "outputs": []
    },
    {
      "cell_type": "code",
      "metadata": {
        "colab": {
          "base_uri": "https://localhost:8080/"
        },
        "id": "h7EIg3DT6Z6J",
        "outputId": "d2d4b8d9-2bdb-42d9-da58-46138ad965fd"
      },
      "source": [
        "q = CircularQueue()\n",
        "for i in range(8): q.enqueue(i)\n",
        "q.display()\n",
        "for i in range(5): q.dequeue()\n",
        "q.display()\n",
        "for i in range(8, 14): q.enqueue(i)\n",
        "q.display()"
      ],
      "execution_count": null,
      "outputs": [
        {
          "output_type": "stream",
          "name": "stdout",
          "text": [
            "[f=0, r=8] [0, 1, 2, 3, 4, 5, 6, 7]\n",
            "[f=5, r=8] [5, 6, 7]\n",
            "[f=5, r=4] [5, 6, 7, 8, 9, 10, 11, 12, 13]\n"
          ]
        }
      ]
    },
    {
      "cell_type": "markdown",
      "metadata": {
        "id": "09dm7puX62uK"
      },
      "source": [
        "## 5.3 큐의 응용 : 너비우선탐색(BFS)\n",
        "* 출발점에서부터 인접한 위치들을 먼저 방문한 다음, 방문한 위치들에 인접한 위치들을 순서대로 찾아 가는 방법"
      ]
    },
    {
      "cell_type": "code",
      "metadata": {
        "id": "hbjt4Zjg6q3u"
      },
      "source": [
        "def isValidPos(x, y) :\t\t\n",
        "    if x < 0 or y < 0 or x >= MAZE_SIZE or y >= MAZE_SIZE :\n",
        "        return False\t\t\n",
        "    else :\t\t\t        \n",
        "        return map[y][x] == '0' or map[y][x] == 'x'\n",
        "\n",
        "def BFS():\n",
        "    que = CircularQueue()\n",
        "    que.enqueue((0,1))\n",
        "    print('BFS: ')\n",
        "\n",
        "    while not que.isEmpty():\n",
        "        here = que.dequeue()\n",
        "        print(here, end='->')\n",
        "        x, y = here\n",
        "        if map[y][x] == 'x': return True\n",
        "        else:\n",
        "            map[y][x] = '.'\n",
        "            if isValidPos(x, y-1): que.enqueue((x, y-1))\n",
        "            if isValidPos(x, y+1): que.enqueue((x, y+1))\n",
        "            if isValidPos(x-1, y): que.enqueue((x-1, y))\n",
        "            if isValidPos(x+1, y): que.enqueue((x+1, y))\n",
        "    return False"
      ],
      "execution_count": null,
      "outputs": []
    },
    {
      "cell_type": "code",
      "metadata": {
        "colab": {
          "base_uri": "https://localhost:8080/"
        },
        "id": "HlkGgmMD-SIv",
        "outputId": "7ed30979-ea4b-4115-dc8b-cf5e8f52799c"
      },
      "source": [
        "map = [ [ '1', '1', '1', '1', '1', '1' ],\n",
        "\t  [ 'e', '0', '0', '0', '0', '1' ],\n",
        "\t  [ '1', '0', '1', '0', '1', '1' ],\n",
        "\t  [ '1', '1', '1', '0', '0', 'x' ],\n",
        "\t  [ '1', '1', '1', '0', '1', '1' ],\n",
        "\t  [ '1', '1', '1', '1', '1', '1' ]]\n",
        "MAZE_SIZE = 6\n",
        "result = BFS()\n",
        "if result : print(' --> 미로탐색 성공')\n",
        "else : print(' --> 미로탐색 실패')"
      ],
      "execution_count": null,
      "outputs": [
        {
          "output_type": "stream",
          "name": "stdout",
          "text": [
            "BFS: \n",
            "(0, 1)->(1, 1)->(1, 2)->(2, 1)->(3, 1)->(3, 2)->(4, 1)->(3, 3)->(3, 4)->(4, 3)->(5, 3)-> --> 미로탐색 성공\n"
          ]
        }
      ]
    },
    {
      "cell_type": "markdown",
      "metadata": {
        "id": "HpfsCVSW-jqs"
      },
      "source": [
        "### 파이썬의 queue 모듈\n",
        "* 큐와 스택 클래스 제공\n",
        "* 삽입은 put(), 삭제는 get()"
      ]
    },
    {
      "cell_type": "code",
      "metadata": {
        "colab": {
          "base_uri": "https://localhost:8080/"
        },
        "id": "nsUirKbO-Uvx",
        "outputId": "a50c2691-9b69-4574-94b7-bb5d79143441"
      },
      "source": [
        "import queue\n",
        "\n",
        "Q = queue.Queue(maxsize=20)\n",
        "\n",
        "for v in range(1, 10):\n",
        "    Q.put(v)\n",
        "print(\"큐의 내용: \", end='')\n",
        "for _ in range(1, 10):\n",
        "    print(Q.get(), end=' ')\n",
        "print()"
      ],
      "execution_count": null,
      "outputs": [
        {
          "output_type": "stream",
          "name": "stdout",
          "text": [
            "큐의 내용: 1 2 3 4 5 6 7 8 9 \n"
          ]
        }
      ]
    },
    {
      "cell_type": "markdown",
      "metadata": {
        "id": "SCIkUApZApzK"
      },
      "source": [
        "## 5.4 덱 (deque)\n",
        "* double-ended queue의 줄임말"
      ]
    },
    {
      "cell_type": "markdown",
      "metadata": {
        "id": "fo9ThabIA4td"
      },
      "source": [
        "### 덱 ADT\n",
        "    데이터: 전단과 후단을 통한 접근을 허용하는 항목들의 모음\n",
        "    연산\n",
        "    * Deque(): 비어 있는 새로운 덱 만듬\n",
        "    * isEmpty(): 비었으면 True, 아니면 False\n",
        "    * addFront(x): 항목 x 를 덱 맨 앞에 추가\n",
        "    * deleteFront(): 맨 앞의 항목 꺼내고 반환\n",
        "    * getFront(): 맨 앞의 항목을 꺼내지 않고 반환\n",
        "    * addRear(x): 항목 x를 덱 맨 뒤에 추가\n",
        "    * deleteRear(): 맨 뒤의 항목을 꺼내서 반환\n",
        "    * getRear(): 맨 뒤의 항목을 꺼내지 않고 반환\n",
        "    * isFull(): 덱이 가득 차 있으면 True, 아니면 False\n",
        "    * size(): 덱의 모든 항목들의 개수 반환\n",
        "    * clear(): 덱을 공백상태로 만듬"
      ]
    },
    {
      "cell_type": "markdown",
      "metadata": {
        "id": "p-rKZ_HSCP0H"
      },
      "source": [
        "### 덱의 구현\n",
        "* 원형 큐를 상속하여 구현함"
      ]
    },
    {
      "cell_type": "code",
      "metadata": {
        "id": "vHycf3RQ-_K1"
      },
      "source": [
        "class CircularDeque(CircularQueue):\n",
        "    def __init__(self):\n",
        "        super().__init__()\n",
        "    \n",
        "    def addRear(self, item): self.enqueue(item)\n",
        "    def deleteFront(self): self.dequeue()\n",
        "    def getFront(self): self.peek()\n",
        "\n",
        "    def addFront(self, item):\n",
        "        if not self.isFull():\n",
        "            self.items[self.front] = item\n",
        "            self.front = self.front - 1\n",
        "            if self.front < 0: self.front = MAX_QSIZE - 1\n",
        "\n",
        "    def deleteRear(self):\n",
        "        if not self.isEmpty():\n",
        "            item = self.items[self.rear]\n",
        "            self.rear = self.rear - 1\n",
        "            if self.rear < 0: self.rear = MAX_QSIZE - 1\n",
        "            return item\n",
        "    \n",
        "    def getRear(self):\n",
        "        return self.items[self.rear]\n"
      ],
      "execution_count": null,
      "outputs": []
    },
    {
      "cell_type": "code",
      "metadata": {
        "colab": {
          "base_uri": "https://localhost:8080/"
        },
        "id": "QNYkVmLvFCVO",
        "outputId": "51428a9f-037f-4154-e711-aa8610515ab0"
      },
      "source": [
        "dq = CircularDeque()\n",
        "for i in range(9):\n",
        "    if i%2==0: dq.addRear(i)\n",
        "    else: dq.addFront(i)\n",
        "dq.display()\n",
        "for i in range(2): dq.deleteFront()\n",
        "for i in range(3): dq.deleteRear()\n",
        "dq.display()\n",
        "for i in range(9, 14): dq.addFront(i)\n",
        "dq.display()"
      ],
      "execution_count": null,
      "outputs": [
        {
          "output_type": "stream",
          "name": "stdout",
          "text": [
            "[f=6, r=5] [7, 5, 3, 1, 0, 2, 4, 6, 8]\n",
            "[f=8, r=2] [3, 1, 0, 2]\n",
            "[f=3, r=2] [13, 12, 11, 10, 9, 3, 1, 0, 2]\n"
          ]
        }
      ]
    },
    {
      "cell_type": "markdown",
      "metadata": {
        "id": "rBsRGWpQdQgk"
      },
      "source": [
        "## 5.6 우선순위 큐"
      ]
    },
    {
      "cell_type": "markdown",
      "metadata": {
        "id": "wHg6WpCOdTZd"
      },
      "source": [
        "### 정렬되지 않은 배열을 이용한 구현"
      ]
    },
    {
      "cell_type": "code",
      "metadata": {
        "id": "MAlF9lxbdR_A"
      },
      "source": [
        "# Python list를 이용한 Priority Queue 구현\n",
        "class PriorityQueue:\n",
        "    def __init__(self):\n",
        "        self.items = []\n",
        "\n",
        "    def isEmpty(self):\n",
        "        return len(self.items) == 0\n",
        "    def size(self):\n",
        "        return len(self.items)\n",
        "    def clear(self):\n",
        "        self.items = []\n",
        "    def enqueue(self, item):\n",
        "        self.items.append(item)     # 리스트 젤 뒤에 삽입, O(1)\n",
        "    def findMaxIndex(self):\n",
        "        if self.isEmpty():\n",
        "            return None\n",
        "        else:\n",
        "            highest = 0\n",
        "            for i in range(1, self.size()):\n",
        "                if self.items[i] > self.items[highest]:\n",
        "                    highest = i\n",
        "            return highest\n",
        "    def dequeue(self):\n",
        "        highest = self.findMaxIndex()\n",
        "        if highest is not None:\n",
        "            return self.items.pop(highest)\n",
        "    def peek(self):\n",
        "        highest = self.findMaxIndex()\n",
        "        return self.items[highest]"
      ],
      "execution_count": 3,
      "outputs": []
    },
    {
      "cell_type": "markdown",
      "source": [
        "리스트를 활용한 우선순위 큐에서는 우선순위가 가장 높은 값에 대한 접근을 필요로 하기 때문에<br/> findMaxIndex() 함수를 필수적으로 필요로 하는것으로 보임"
      ],
      "metadata": {
        "id": "rbxHQfwGeFIa"
      }
    },
    {
      "cell_type": "code",
      "source": [
        "# test\n",
        "q = PriorityQueue()\n",
        "q.enqueue(34)\n",
        "q.enqueue(18)\n",
        "q.enqueue(27)\n",
        "q.enqueue(45)\n",
        "q.enqueue(15)\n",
        "\n",
        "print(\"PQueue:\", q.items)\n",
        "\n",
        "while not q.isEmpty():\n",
        "    print(\"Max Priority =\", q.dequeue())"
      ],
      "metadata": {
        "colab": {
          "base_uri": "https://localhost:8080/"
        },
        "id": "3cwEKsfTeJPh",
        "outputId": "4ff857fe-ba19-4655-fa44-5f92ebc946d0"
      },
      "execution_count": 4,
      "outputs": [
        {
          "output_type": "stream",
          "name": "stdout",
          "text": [
            "PQueue: [34, 18, 27, 45, 15]\n",
            "Max Priority = 45\n",
            "Max Priority = 34\n",
            "Max Priority = 27\n",
            "Max Priority = 18\n",
            "Max Priority = 15\n"
          ]
        }
      ]
    },
    {
      "cell_type": "markdown",
      "source": [
        "### 시간 복잡도\n",
        "    * 정렬되지 않은 리스트 사용\n",
        "    enqueue: 1\n",
        "    find - : n\n",
        "    dequeue, peek: n\n",
        "\n",
        "    * 정렬된 리스트 사용\n",
        "    enqueue: n\n",
        "    dequeue, peek: 1\n",
        "\n",
        "    * 힙 트리\n",
        "    enqueue, dequeue: logn\n",
        "    peek: 1"
      ],
      "metadata": {
        "id": "Esk-D9ffef14"
      }
    },
    {
      "cell_type": "markdown",
      "source": [
        "## 5.7 우선순위 큐의 응용: 전략적인 미로 탐색"
      ],
      "metadata": {
        "id": "Htmb15gke-Un"
      }
    },
    {
      "cell_type": "markdown",
      "source": [
        "큐에 저장할때 우선순위인 거리(d)도 함께 저장<br/>\n",
        "거리가 가까울수록 우선순위가 높도록 함"
      ],
      "metadata": {
        "id": "RW3S-roBfYNx"
      }
    },
    {
      "cell_type": "code",
      "source": [
        "# findMaxIndex 변경한 우선순위큐\n",
        "class PriorityQueue:\n",
        "    def __init__(self):\n",
        "        self.items = []\n",
        "\n",
        "    def isEmpty(self):\n",
        "        return len(self.items) == 0\n",
        "    def size(self):\n",
        "        return len(self.items)\n",
        "    def clear(self):\n",
        "        self.items = []\n",
        "    def enqueue(self, item):\n",
        "        self.items.append(item)     # 리스트 젤 뒤에 삽입, O(1)\n",
        "    def findMaxIndex(self):\n",
        "        if self.isEmpty():\n",
        "            return None\n",
        "        else:\n",
        "            highest = 0\n",
        "            for i in range(1, self.size()):\n",
        "                if self.items[i][2] > self.items[highest][2]:\n",
        "                    highest = i\n",
        "            return highest\n",
        "    def dequeue(self):\n",
        "        highest = self.findMaxIndex()\n",
        "        if highest is not None:\n",
        "            return self.items.pop(highest)\n",
        "    def peek(self):\n",
        "        highest = self.findMaxIndex()\n",
        "        return self.items[highest]"
      ],
      "metadata": {
        "id": "6nAHrWGVe8os"
      },
      "execution_count": 5,
      "outputs": []
    },
    {
      "cell_type": "code",
      "source": [
        "import math\n",
        "(ox, oy) = (5, 4)       # 출구 위치\n",
        "def dist(x, y):         # 출구로부터의 거리계산함수\n",
        "    (dx, dy) = (ox-x, oy-y)\n",
        "    return math.sqrt(dx*dx + dy*dy) \n",
        "\n",
        "def isValidPos(x, y) :\t\t\n",
        "    if x < 0 or y < 0 or x >= MAZE_SIZE or y >= MAZE_SIZE :\n",
        "        return False\t\t\n",
        "    else :\t\t\t        \n",
        "        return map[y][x] == '0' or map[y][x] == 'x' "
      ],
      "metadata": {
        "id": "1G_Vxmu1fzGQ"
      },
      "execution_count": 7,
      "outputs": []
    },
    {
      "cell_type": "code",
      "source": [
        "def MySmartSearch():\n",
        "    q = PriorityQueue()\n",
        "    q.enqueue((0, 1, dist(0,1)))\n",
        "    print('PQueue: ')\n",
        "\n",
        "    while not q.isEmpty():\n",
        "        here = q.dequeue()\n",
        "        print(here[0:2], end='->')\n",
        "        x,y,_ = here\n",
        "        if map[y][x] == 'x': return True\n",
        "        else:\n",
        "            map[y][x] = '.'\n",
        "            if isValidPos(x, y-1): q.enqueue((x, y-1, -dist(x, y-1)))\n",
        "            if isValidPos(x, y+1): q.enqueue((x, y+1, -dist(x, y+1)))\n",
        "            if isValidPos(x-1, y): q.enqueue((x-1, y, -dist(x-1, y)))\n",
        "            if isValidPos(x+1, y): q.enqueue((x+1, y, -dist(x+1, y)))\n",
        "        print(\"우선순위큐: \", q.items)\n",
        "    return False"
      ],
      "metadata": {
        "id": "LVzuA5AYgJKM"
      },
      "execution_count": 10,
      "outputs": []
    },
    {
      "cell_type": "code",
      "source": [
        "map = [   [ '1', '1', '1', '1', '1', '1' ],\n",
        "\t    [ 'e', '0', '1', '0', '0', '1' ],\n",
        "\t    [ '1', '0', '0', '0', '1', '1' ],\n",
        "\t    [ '1', '0', '1', '0', '1', '1' ],\n",
        "\t    [ '1', '0', '1', '0', '0', 'x' ],\n",
        "\t    [ '1', '1', '1', '1', '1', '1' ]]\n",
        "MAZE_SIZE = 6\n",
        "result = MySmartSearch()\n",
        "if result : print(' --> 미로탐색 성공')\n",
        "else : print(' --> 미로탐색 실패')"
      ],
      "metadata": {
        "colab": {
          "base_uri": "https://localhost:8080/"
        },
        "id": "Zty1rvSDjPJ5",
        "outputId": "585d33d3-8862-4874-a092-6b922f4c94d5"
      },
      "execution_count": 11,
      "outputs": [
        {
          "output_type": "stream",
          "name": "stdout",
          "text": [
            "PQueue: \n",
            "(0, 1)->우선순위큐:  [(1, 1, -5.0)]\n",
            "(1, 1)->우선순위큐:  [(1, 2, -4.47213595499958)]\n",
            "(1, 2)->우선순위큐:  [(1, 3, -4.123105625617661), (2, 2, -3.605551275463989)]\n",
            "(2, 2)->우선순위큐:  [(1, 3, -4.123105625617661), (3, 2, -2.8284271247461903)]\n",
            "(3, 2)->우선순위큐:  [(1, 3, -4.123105625617661), (3, 1, -3.605551275463989), (3, 3, -2.23606797749979)]\n",
            "(3, 3)->우선순위큐:  [(1, 3, -4.123105625617661), (3, 1, -3.605551275463989), (3, 4, -2.0)]\n",
            "(3, 4)->우선순위큐:  [(1, 3, -4.123105625617661), (3, 1, -3.605551275463989), (4, 4, -1.0)]\n",
            "(4, 4)->우선순위큐:  [(1, 3, -4.123105625617661), (3, 1, -3.605551275463989), (5, 4, -0.0)]\n",
            "(5, 4)-> --> 미로탐색 성공\n"
          ]
        }
      ]
    }
  ]
}