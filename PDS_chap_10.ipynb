{
  "nbformat": 4,
  "nbformat_minor": 0,
  "metadata": {
    "colab": {
      "name": "PDS_chap_10.ipynb",
      "provenance": [],
      "collapsed_sections": []
    },
    "kernelspec": {
      "name": "python3",
      "display_name": "Python 3"
    },
    "language_info": {
      "name": "python"
    }
  },
  "cells": [
    {
      "cell_type": "markdown",
      "metadata": {
        "id": "TKEErHAvlufa"
      },
      "source": [
        "# Chapter 10 그래프"
      ]
    },
    {
      "cell_type": "markdown",
      "source": [
        "## 10.2 그래프의 표현"
      ],
      "metadata": {
        "id": "rmZsX-4RJyNC"
      }
    },
    {
      "cell_type": "markdown",
      "source": [
        "### 인접 행렬을 이용한 표현\n",
        "* 간선 (i,j)가 존재하면 M[i][j] = 1 or True\n",
        "* 그렇지 않으면 M[i][j] = 0 or False\n",
        "* 무방향 그래프의 인접 행렬은 대칭"
      ],
      "metadata": {
        "id": "QEC2NFhxJ1Fb"
      }
    },
    {
      "cell_type": "markdown",
      "source": [
        "### 인접 리스트를 이용한 표현\n",
        "<img src=\"https://t1.daumcdn.net/cfile/tistory/240BDF3856AEA76637\" alt=\"My Image\">"
      ],
      "metadata": {
        "id": "FJjMaYqdKSch"
      }
    },
    {
      "cell_type": "markdown",
      "source": [
        "## 10.3 그래프의 탐색"
      ],
      "metadata": {
        "id": "p5rech3-ZkRf"
      }
    },
    {
      "cell_type": "code",
      "source": [
        "mygraph = { \"A\" : set([\"B\",\"C\"]),\n",
        "            \"B\" : set([\"A\", \"D\"]),\n",
        "            \"C\" : set([\"A\", \"D\", \"E\"]),\n",
        "            \"D\" : set([\"B\", \"C\", \"F\"]),\n",
        "            \"E\" : set([\"C\", \"G\", \"H\"]),\n",
        "            \"F\" : set([\"D\"]),\n",
        "            \"G\" : set([\"E\", \"H\"]),\n",
        "            \"H\" : set([\"E\", \"G\"])\n",
        "          }"
      ],
      "metadata": {
        "id": "bLWCBPTKOhHL"
      },
      "execution_count": 1,
      "outputs": []
    },
    {
      "cell_type": "markdown",
      "source": [
        "### DFS\n",
        "1. 한방향으로 일단끝까지\n",
        "2. 되돌아가기위해 스택 필요(순환함수 호출로 묵시적인 스택 이용)"
      ],
      "metadata": {
        "id": "XGioZKxBZmzg"
      }
    },
    {
      "cell_type": "code",
      "metadata": {
        "id": "mT-xGpdWlrNJ"
      },
      "source": [
        "def dfs(graph, start, visited=set()):  # graph:딕셔너리로\n",
        "    if start not in visited:\n",
        "        visited.add(start)\n",
        "        print(start, end=' ')\n",
        "        nbr = graph[start] - visited  # 차집합 연산 이용\n",
        "        for v in nbr:\n",
        "            dfs(graph, v, visited)"
      ],
      "execution_count": 3,
      "outputs": []
    },
    {
      "cell_type": "code",
      "source": [
        "# Test\n",
        "dfs(mygraph, 'A') # 교재랑은 다르게 A 다음에 C부터감. 아마 set이라 순서관계가 없기 때문에 발생하는 문제 같음."
      ],
      "metadata": {
        "id": "2TFnG_HGOk41"
      },
      "execution_count": 5,
      "outputs": []
    },
    {
      "cell_type": "markdown",
      "source": [
        "### BFS\n",
        "1. 시작 정점으로부터 가까운 정점 먼저 방문\n",
        "2. 큐를 사용하여 구현"
      ],
      "metadata": {
        "id": "9Vs9JRPccT6a"
      }
    },
    {
      "cell_type": "code",
      "source": [
        "import collections\n",
        "def bfs(graph, start):\n",
        "    visited = set([start])\n",
        "    queue = collections.deque([start]) # deque를 queue로 사용\n",
        "    while queue:\n",
        "        vertex = queue.popleft()\n",
        "        print(vertex, end=' ')\n",
        "        nbr = graph[vertex] - visited\n",
        "        for v in nbr:\n",
        "            visited.add(v)\n",
        "            queue.append(v)"
      ],
      "metadata": {
        "id": "srjrWn_Yb1lx"
      },
      "execution_count": 7,
      "outputs": []
    },
    {
      "cell_type": "code",
      "source": [
        "# Test\n",
        "bfs(mygraph, 'A')"
      ],
      "metadata": {
        "colab": {
          "base_uri": "https://localhost:8080/"
        },
        "id": "xizpOvLZP2_o",
        "outputId": "078609fe-c170-4130-e066-e7c4558af893"
      },
      "execution_count": 8,
      "outputs": [
        {
          "output_type": "stream",
          "name": "stdout",
          "text": [
            "A C B D E F G H "
          ]
        }
      ]
    },
    {
      "cell_type": "markdown",
      "source": [
        "### 탐색 알고리즘 성능 \n",
        "* 깊이 우선 탐색 / 너비 우선 탐색\n",
        "    * 인접 행렬 표현  : O($n^2$)\n",
        "    * 인접 리스트 표현: O(n + e)\n",
        "\n",
        "* 완전 그래프와 같은 조밀 그래프 -> 인접 행렬이 유리\n",
        "* 희소 그래프 -> 인접리스트가 유리 \n"
      ],
      "metadata": {
        "id": "CmLMI8seRZmL"
      }
    },
    {
      "cell_type": "markdown",
      "source": [
        "## 10.4 연결 성분 검사"
      ],
      "metadata": {
        "id": "uvgJq1BqgCtO"
      }
    },
    {
      "cell_type": "markdown",
      "source": [
        "### 연결 성분이란\n",
        "* 최대로 연결된 부분 그래프들을 구함(DFS or BFS를 반복적으로 이용)"
      ],
      "metadata": {
        "id": "iwCyqYtNSJFS"
      }
    },
    {
      "cell_type": "markdown",
      "source": [
        "### 연결 성분 검사 알고리즘"
      ],
      "metadata": {
        "id": "DdR4GtTxgFZo"
      }
    },
    {
      "cell_type": "code",
      "source": [
        "def find_connected_component(graph): # 딕셔너리를 받음\n",
        "    visited = set()\n",
        "    colorList = []\n",
        "\n",
        "    for vtx in graph:\n",
        "        if vtx not in visited:\n",
        "            color = dfs_cc(graph, [], vtx, visited)\n",
        "            colorList.append(color)\n",
        "\n",
        "    print(f\"그래프 연결성분 개수 = {len(colorList)}\")\n",
        "    print(colorList)\n",
        "\n",
        "def dfs_cc(graph, color, vertex, visited):\n",
        "    if vertex not in visited:\n",
        "        visited.add(vertex)\n",
        "        color.append(vertex)\n",
        "        nbr = graph[vertex] - visited\n",
        "        for v in nbr:\n",
        "            dfs_cc(graph, color, v, visited)\n",
        "    return color"
      ],
      "metadata": {
        "id": "xXCO0JhjczdE"
      },
      "execution_count": null,
      "outputs": []
    },
    {
      "cell_type": "code",
      "source": [
        "# 테스트\n",
        "mygraph = {\"A\": set([\"B\", \"C\"]),\n",
        "            \"B\": set([\"A\"]),\n",
        "            \"C\": set([\"A\"]),\n",
        "            \"D\": set([\"E\"]),\n",
        "            \"E\": set([\"D\"])}\n",
        "\n",
        "print('find_connected_component: ')\n",
        "find_connected_component(mygraph)"
      ],
      "metadata": {
        "colab": {
          "base_uri": "https://localhost:8080/"
        },
        "id": "kyOHlNfXhROH",
        "outputId": "9fe5bb02-5b37-4b5e-d7a5-e5dd1e5d7767"
      },
      "execution_count": null,
      "outputs": [
        {
          "output_type": "stream",
          "name": "stdout",
          "text": [
            "find_connected_component: \n",
            "그래프 연결성분 개수 = 2\n",
            "[['A', 'B', 'C'], ['D', 'E']]\n"
          ]
        }
      ]
    },
    {
      "cell_type": "markdown",
      "source": [
        "## 10.5 신장 트리\n",
        "* 그래프 내의 모든 정점을 포함하는 트리\n",
        "* 사이클을 포함하면 안됨, 간선의 수 = n-1"
      ],
      "metadata": {
        "id": "9FK6Xf_PjG3B"
      }
    },
    {
      "cell_type": "code",
      "source": [
        "# 신장 트리 알고리즘\n",
        "# by 너비 우선 탐색\n",
        "def bfsST(graph, start):\n",
        "    visited = set([start])\n",
        "    queue = collections.deque([start])\n",
        "    while queue:\n",
        "        v = queue.popleft()\n",
        "        nbr = graph[v] - visited\n",
        "        for u in nbr:\n",
        "            print(\"(\", v, \",\", u, \")\", end=\"\")\n",
        "            visited.add(u)\n",
        "            queue.append(u)"
      ],
      "metadata": {
        "id": "3w6EV2GPiRBX"
      },
      "execution_count": 9,
      "outputs": []
    },
    {
      "cell_type": "code",
      "source": [
        "# Test\n",
        "mygraph = { \"A\" : set([\"B\",\"C\"]),\n",
        "            \"B\" : set([\"A\", \"D\"]),\n",
        "            \"C\" : set([\"A\", \"D\", \"E\"]),\n",
        "            \"D\" : set([\"B\", \"C\", \"F\"]),\n",
        "            \"E\" : set([\"C\", \"G\", \"H\"]),\n",
        "            \"F\" : set([\"D\"]),\n",
        "            \"G\" : set([\"E\", \"H\"]),\n",
        "            \"H\" : set([\"E\", \"G\"])\n",
        "          }\n",
        "\n",
        "bfsST(mygraph, \"A\")"
      ],
      "metadata": {
        "colab": {
          "base_uri": "https://localhost:8080/"
        },
        "id": "v1GgEaYpY51k",
        "outputId": "b191dd20-762e-4766-fd73-6ab2b47748b2"
      },
      "execution_count": 10,
      "outputs": [
        {
          "output_type": "stream",
          "name": "stdout",
          "text": [
            "( A , C )( A , B )( C , D )( C , E )( D , F )( E , G )( E , H )"
          ]
        }
      ]
    },
    {
      "cell_type": "code",
      "source": [
        "# by 깊이 우선 탐색\n",
        "cnt = 0\n",
        "def dfsST(graph, start, visited=set(), pre=0):\n",
        "    global cnt\n",
        "    if start not in visited:\n",
        "        if cnt != 0:\n",
        "            print(\"(\", pre, \",\", start, \")\", end=\"\")\n",
        "        cnt += 1\n",
        "        visited.add(start)\n",
        "        nbr = graph[start] - visited\n",
        "        for v in nbr:\n",
        "            dfsST(graph, v, visited, start)"
      ],
      "metadata": {
        "id": "vxxuGl_jY6jp"
      },
      "execution_count": 46,
      "outputs": []
    },
    {
      "cell_type": "markdown",
      "source": [
        "책에 없어서 직접 만든거라 어색한 감이 좀 있음.."
      ],
      "metadata": {
        "id": "mp0EC7OUcAWD"
      }
    },
    {
      "cell_type": "code",
      "source": [
        "# Test\n",
        "mygraph = { \"A\" : set([\"B\",\"C\"]),\n",
        "            \"B\" : set([\"A\", \"D\"]),\n",
        "            \"C\" : set([\"A\", \"D\", \"E\"]),\n",
        "            \"D\" : set([\"B\", \"C\", \"F\"]),\n",
        "            \"E\" : set([\"C\", \"G\", \"H\"]),\n",
        "            \"F\" : set([\"D\"]),\n",
        "            \"G\" : set([\"E\", \"H\"]),\n",
        "            \"H\" : set([\"E\", \"G\"])\n",
        "          }\n",
        "dfsST(mygraph, \"A\")"
      ],
      "metadata": {
        "colab": {
          "base_uri": "https://localhost:8080/"
        },
        "id": "UM_82DaHZqfs",
        "outputId": "c16f6f47-60b0-474e-bc3d-63610f5e2750"
      },
      "execution_count": 47,
      "outputs": [
        {
          "output_type": "stream",
          "name": "stdout",
          "text": [
            "( A , C )( C , D )( D , F )( D , B )( C , E )( E , G )( G , H )"
          ]
        }
      ]
    }
  ]
}