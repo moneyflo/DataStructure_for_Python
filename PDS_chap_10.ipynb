{
  "nbformat": 4,
  "nbformat_minor": 0,
  "metadata": {
    "colab": {
      "name": "PDS_chap_10.ipynb",
      "provenance": [],
      "collapsed_sections": []
    },
    "kernelspec": {
      "name": "python3",
      "display_name": "Python 3"
    },
    "language_info": {
      "name": "python"
    }
  },
  "cells": [
    {
      "cell_type": "markdown",
      "metadata": {
        "id": "TKEErHAvlufa"
      },
      "source": [
        "# Chapter 10 그래프"
      ]
    },
    {
      "cell_type": "markdown",
      "source": [
        "## 10.3 그래프의 탐색"
      ],
      "metadata": {
        "id": "p5rech3-ZkRf"
      }
    },
    {
      "cell_type": "markdown",
      "source": [
        "### DFS\n",
        "1. 한방향으로 일단끝까지\n",
        "2. 되돌아가기위해 스택 필요(순환함수 호출로 묵시적인 스택 이용)"
      ],
      "metadata": {
        "id": "XGioZKxBZmzg"
      }
    },
    {
      "cell_type": "code",
      "metadata": {
        "id": "mT-xGpdWlrNJ"
      },
      "source": [
        "def dfs(graph, start, visited=set()):  # graph:딕셔너리로\n",
        "    if start not in visited:\n",
        "        visited.add(start)\n",
        "        print(start, end=' ')\n",
        "        nbr = graph[start] - visited  # 차집합 연산 이용\n",
        "        for v in nbr:\n",
        "            dfs(graph, v, visited)"
      ],
      "execution_count": null,
      "outputs": []
    },
    {
      "cell_type": "markdown",
      "source": [
        "### BFS\n",
        "1. 시작 정점으로부터 가까운 정점 먼저 방문\n",
        "2. 큐를 사용하여 구현"
      ],
      "metadata": {
        "id": "9Vs9JRPccT6a"
      }
    },
    {
      "cell_type": "code",
      "source": [
        "import collections\n",
        "def bfs(graph, start):\n",
        "    visited = set([start])\n",
        "    queue = collections.deque([start])\n",
        "    while queue:\n",
        "        vertex = queue.popleft()\n",
        "        print(vertex, end=' ')\n",
        "        nbr = graph[vertex] - visited\n",
        "        for v in nbr:\n",
        "            visited.add(v)\n",
        "            queue.append(v)"
      ],
      "metadata": {
        "id": "srjrWn_Yb1lx"
      },
      "execution_count": null,
      "outputs": []
    },
    {
      "cell_type": "markdown",
      "source": [
        "## 10.4 연결 성분 검사"
      ],
      "metadata": {
        "id": "uvgJq1BqgCtO"
      }
    },
    {
      "cell_type": "markdown",
      "source": [
        "### 연결 성분 검사 알고리즘"
      ],
      "metadata": {
        "id": "DdR4GtTxgFZo"
      }
    },
    {
      "cell_type": "code",
      "source": [
        "def find_connected_component(graph): # 딕셔너리를 받음\n",
        "    visited = set()\n",
        "    colorList = []\n",
        "\n",
        "    for vtx in graph:\n",
        "        if vtx not in visited:\n",
        "            color = dfs_cc(graph, [], vtx, visited)\n",
        "            colorList.append(color)\n",
        "\n",
        "    print(f\"그래프 연결성분 개수 = {len(colorList)}\")\n",
        "    print(colorList)\n",
        "\n",
        "def dfs_cc(graph, color, vertex, visited):\n",
        "    if vertex not in visited:\n",
        "        visited.add(vertex)\n",
        "        color.append(vertex)\n",
        "        nbr = graph[vertex] - visited\n",
        "        for v in nbr:\n",
        "            dfs_cc(graph, color, v, visited)\n",
        "    return color"
      ],
      "metadata": {
        "id": "xXCO0JhjczdE"
      },
      "execution_count": null,
      "outputs": []
    },
    {
      "cell_type": "code",
      "source": [
        "# 테스트\n",
        "mygraph = {\"A\": set([\"B\", \"C\"]),\n",
        "            \"B\": set([\"A\"]),\n",
        "            \"C\": set([\"A\"]),\n",
        "            \"D\": set([\"E\"]),\n",
        "            \"E\": set([\"D\"])}\n",
        "\n",
        "print('find_connected_component: ')\n",
        "find_connected_component(mygraph)"
      ],
      "metadata": {
        "colab": {
          "base_uri": "https://localhost:8080/"
        },
        "id": "kyOHlNfXhROH",
        "outputId": "9fe5bb02-5b37-4b5e-d7a5-e5dd1e5d7767"
      },
      "execution_count": null,
      "outputs": [
        {
          "output_type": "stream",
          "name": "stdout",
          "text": [
            "find_connected_component: \n",
            "그래프 연결성분 개수 = 2\n",
            "[['A', 'B', 'C'], ['D', 'E']]\n"
          ]
        }
      ]
    },
    {
      "cell_type": "markdown",
      "source": [
        "## 10.5 신장 트리\n",
        "* 그래프 내의 모든 정점을 포함하는 트리\n",
        "* 사이클을 포함하면 안됨, 간선의 수 = n-1"
      ],
      "metadata": {
        "id": "9FK6Xf_PjG3B"
      }
    },
    {
      "cell_type": "code",
      "source": [
        "# 신장 트리 알고리즘\n",
        "def bfsST(graph, start):\n",
        "    visited = set([start])\n",
        "    queue = collections.deque([start])\n",
        "    while queue:\n",
        "        v = queue.popleft()\n",
        "        nbr = graph[v] - visited\n",
        "        for u in nbr:\n",
        "            print(\"(\", v, \",\", u, \")\", end=\"\")\n",
        "            visited.add(u)\n",
        "            queue.append(u)"
      ],
      "metadata": {
        "id": "3w6EV2GPiRBX"
      },
      "execution_count": null,
      "outputs": []
    }
  ]
}