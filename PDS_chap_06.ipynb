{
  "nbformat": 4,
  "nbformat_minor": 0,
  "metadata": {
    "colab": {
      "name": "PDS_chap_06.ipynb",
      "provenance": [],
      "collapsed_sections": []
    },
    "kernelspec": {
      "name": "python3",
      "display_name": "Python 3"
    },
    "language_info": {
      "name": "python"
    }
  },
  "cells": [
    {
      "cell_type": "markdown",
      "metadata": {
        "id": "6GmmCRU19U9s"
      },
      "source": [
        "# Chapter 06 연결된 구조"
      ]
    },
    {
      "cell_type": "markdown",
      "source": [
        "## 6.1 연결된 구조란?\n",
        "    - 연결된 구조\n",
        "     데이터를 링크로 연결해서 관리\n",
        "     용량이 고정되지 않다는 장점이있음\n",
        "     중간에 자료를 삽입하거나 삭제하는 것이 간편\n",
        "     But n번째 항목에 접근하는데 O(n)의 시간이 걸림\n",
        "\n",
        "    - 연결 리스트의 구조\n",
        "     * 노드\n",
        "      데이터 필드와 하나 이상의 링크 필드로 구성\n",
        "    * 헤드 포인터\n",
        "     첫 출발점\n",
        "\n",
        "    - 종류\n",
        "     1. 단순 연결 리스트\n",
        "     2. 원형 연결 리스트\n",
        "     3. 이중 연결 리스트\n"
      ],
      "metadata": {
        "id": "EkSwDIEOlEuT"
      }
    },
    {
      "cell_type": "markdown",
      "metadata": {
        "id": "vr1qJ-i8D5nH"
      },
      "source": [
        "## 6.2 단순연결리스트 응용: 연결된 스택"
      ]
    },
    {
      "cell_type": "markdown",
      "metadata": {
        "id": "TIuOA4DlECvv"
      },
      "source": [
        "* 노드 클래스"
      ]
    },
    {
      "cell_type": "code",
      "metadata": {
        "id": "pxzdmwvT8580"
      },
      "source": [
        "class Node:\n",
        "    def __init__(self, elem, link=None):\n",
        "        self.data = elem\n",
        "        self.link = link"
      ],
      "execution_count": null,
      "outputs": []
    },
    {
      "cell_type": "markdown",
      "metadata": {
        "id": "eKemn0UhEcLH"
      },
      "source": [
        "* 연결된 스택 클래스"
      ]
    },
    {
      "cell_type": "code",
      "metadata": {
        "id": "_R6pbF-BEbJR"
      },
      "source": [
        "class LinkedStack:\n",
        "    def __init__(self):\n",
        "        self.top = None\n",
        "\n",
        "    def isEmpty(self): return self.top == None\n",
        "    def clear(self): self.top = None\n",
        "\n",
        "    # 삽입 연산\n",
        "    def push(self, item):\n",
        "        n = Node(item, self.top)\n",
        "        self.top = n\n",
        "\n",
        "    # 삭제 연산\n",
        "    def pop(self):\n",
        "        if not self.isEmpty():\n",
        "            n = self.top\n",
        "            self.top = n.link\n",
        "            return n.data\n",
        "\n",
        "    def peek(self):\t\t\t\n",
        "        if not self.isEmpty():\t\n",
        "            return self.top.data\n",
        "    \n",
        "    # 전체 노드의 방문\n",
        "    def size(self):\n",
        "        node = self.top\n",
        "        count = 0\n",
        "        while not node == None:\n",
        "            node = node.link\n",
        "            count += 1\n",
        "        return count\n",
        "\n",
        "    def display( self, msg='LinkedStack:'): \n",
        "        print(msg, end='')\t\t\n",
        "        node = self.top\t\t\t\n",
        "        while not node == None :\t \t\n",
        "            print(node.data, end=' ')\t\n",
        "            node = node.link\t\t    \n",
        "        print()"
      ],
      "execution_count": null,
      "outputs": []
    },
    {
      "cell_type": "code",
      "metadata": {
        "colab": {
          "base_uri": "https://localhost:8080/"
        },
        "id": "96SzgFRAO6Yz",
        "outputId": "f4c52283-470f-4338-e8a5-a9e095d5871f"
      },
      "source": [
        "odd = LinkedStack()\t\t\n",
        "even = LinkedStack()\t\n",
        "for i in range(10):\t\t    \t    \n",
        "    if i%2 == 0 : even.push(i) \t\t\n",
        "    else : odd.push(i)\t\t\t    \n",
        "\n",
        "even.display(' 스택 even push 5회: ')\n",
        "odd.display (' 스택 odd  push 5회: ')\t\n",
        "print(' 스택 even     peek: ', even.peek())\n",
        "print(' 스택 odd      peek: ', odd.peek())\t\n",
        "for _ in range(2) : even.pop()\t\t\n",
        "for _ in range(3) : odd.pop()\t\t\n",
        "even.display(' 스택 even  pop 2회: ')\n",
        "odd.display (' 스택 odd   pop 3회: ')"
      ],
      "execution_count": null,
      "outputs": [
        {
          "output_type": "stream",
          "name": "stdout",
          "text": [
            " 스택 even push 5회: 8 6 4 2 0 \n",
            " 스택 odd  push 5회: 9 7 5 3 1 \n",
            " 스택 even     peek:  8\n",
            " 스택 odd      peek:  9\n",
            " 스택 even  pop 2회: 4 2 0 \n",
            " 스택 odd   pop 3회: 3 1 \n"
          ]
        }
      ]
    },
    {
      "cell_type": "markdown",
      "source": [
        "삭제 연산에서 메모리 해제를 신경 쓸 필요 없음! <br/>\n",
        "어떤 객체를 참조하는 변수가 없으면 그 객체는 자동으로 삭제. <br/>\n",
        "함수가 끝나면 내부의 지역변수인 n은 사라질것이기 때문"
      ],
      "metadata": {
        "id": "KW8jUt2NnbLF"
      }
    },
    {
      "cell_type": "markdown",
      "metadata": {
        "id": "ofyGy6d5RZsj"
      },
      "source": [
        "## 6.3 단순연결리스트 응용: 연결 리스트"
      ]
    },
    {
      "cell_type": "code",
      "metadata": {
        "id": "NDrBAbM-PA55"
      },
      "source": [
        "class LinkedList:\n",
        "    def __init__(self):\n",
        "        self.head = None\n",
        "\n",
        "    def isEmpty(self): return self.head == None\n",
        "    def clear(self): self.head = None\n",
        "\n",
        "    def size(self):\n",
        "        node = self.head\n",
        "        count = 0\n",
        "        while not node == None:\n",
        "            node = node.link\n",
        "            count += 1\n",
        "        return count\n",
        "\n",
        "    def display( self, msg='LinkedList:'): \n",
        "        print(msg, end='')\t\t\n",
        "        node = self.head\t\t\t\n",
        "        while not node == None :\t \t\n",
        "            print(node.data, end=' ')\t\n",
        "            node = node.link\t\t    \n",
        "        print()\n",
        "\n",
        "    def getNode(self, pos):\n",
        "        if pos < 0: return None\n",
        "        node = self.head\n",
        "        while pos > 0 and node != None:\n",
        "            node = node.link\n",
        "            pos -= 1\n",
        "        return node\n",
        "    \n",
        "    def getEntry(self, pos):\n",
        "        node = self.getNode(pos)\n",
        "        if node == None: return None\n",
        "        else: return node.data\n",
        "\n",
        "    def insert(self, pos, elem):\n",
        "        before = self.getNode(pos-1)\n",
        "        if before == None:\n",
        "            self.head = Node(elem, self.head)\n",
        "        else:\n",
        "            node = Node(elem, before.link)\n",
        "            before.link = node\n",
        "\n",
        "    def delete(self, pos):\n",
        "        before = self.getNode(pos-1)\n",
        "        if before == None:\n",
        "            if self.head is not None:\n",
        "                self.head = self.head.link\n",
        "        elif before.link != None:\n",
        "            before.link = before.link.link\n",
        "\n",
        "    def replace(self, pos, elem) :\t    \n",
        "        node = self.getNode(pos)\t\t\n",
        "        if node != None: node.data = elem\t\n",
        "\n",
        "    def find(self, data) :\t\t    \n",
        "        node = self.head;\n",
        "        while node is not None:\t\t\n",
        "            if node.data == data : return node\t\n",
        "            node = node.link\n",
        "        return node\t"
      ],
      "execution_count": null,
      "outputs": []
    },
    {
      "cell_type": "code",
      "metadata": {
        "colab": {
          "base_uri": "https://localhost:8080/"
        },
        "id": "ZcklmttYZbQN",
        "outputId": "6428d709-0242-4a8e-b914-c2c48900666e"
      },
      "source": [
        "s = LinkedList()\n",
        "s.display('단순연결리스트로 구현한 리스트(초기상태):')\n",
        "s.insert(0, 10);\ts.insert(0, 20);     s.insert(1, 30)\n",
        "s.insert(s.size(), 40);\ts.insert(2, 50)\n",
        "s.display(\"단순연결리스트로 구현한 리스트(삽입x5): \")\n",
        "s.replace(2, 90)\n",
        "s.display(\"단순연결리스트로 구현한 리스트(교체x1): \")\n",
        "s.delete(2);\ts.delete(s.size() - 1);\ts.delete(0)\n",
        "s.display(\"단순연결리스트로 구현한 리스트(삭제x3): \")\n",
        "s.clear()\n",
        "s.display(\"단순연결리스트로 구현한 리스트(정리후): \")"
      ],
      "execution_count": null,
      "outputs": [
        {
          "output_type": "stream",
          "name": "stdout",
          "text": [
            "단순연결리스트로 구현한 리스트(초기상태):\n",
            "단순연결리스트로 구현한 리스트(삽입x5): 20 30 50 10 40 \n",
            "단순연결리스트로 구현한 리스트(교체x1): 20 30 90 10 40 \n",
            "단순연결리스트로 구현한 리스트(삭제x3): 30 10 \n",
            "단순연결리스트로 구현한 리스트(정리후): \n"
          ]
        }
      ]
    },
    {
      "cell_type": "markdown",
      "metadata": {
        "id": "T92WgNPggNKE"
      },
      "source": [
        "## 6.4 원형연결리스트의 응용: 연결된 큐"
      ]
    },
    {
      "cell_type": "code",
      "metadata": {
        "id": "2hx9vNmoZbxu"
      },
      "source": [
        "class CircularLinkedQueue:\n",
        "    def __init__(self):\n",
        "        self.tail = None\n",
        "    \n",
        "    def isEmpty(self): return self.tail == None\n",
        "    def clear(self): self.tail = None\n",
        "    def peek(self):\n",
        "        if not self.isEmpty():\n",
        "            return self.tail.link.data\n",
        "\n",
        "    def enqueue(self, item):\n",
        "        node = Node(item, None)\n",
        "        if self.isEmpty():\n",
        "            node.link = node\n",
        "            node.tail = node\n",
        "        else:\n",
        "            node.link = self.tail.link\n",
        "            self.tail.link = node\n",
        "            self.tail = node\n",
        "    \n",
        "    def dequeue(self):\n",
        "        if not self.isEmpty():\n",
        "            data = self.tail.link.data\n",
        "            if self.tail.link == self.tail:\n",
        "                self.tail = None\n",
        "            else:\n",
        "                self.tail.link = self.tail.link.link\n",
        "                return data\n",
        "    \n",
        "    def size(self):\n",
        "        if self.isEmpty(): return 0\n",
        "        else:\n",
        "            count = 1\n",
        "            node = self.tail.link\n",
        "            while not node == self.tail:\n",
        "                node = node.link\n",
        "                count += 1\n",
        "            return count\n",
        "\n",
        "    def peek( self ):\t\t\t\t        \n",
        "        if not self.isEmpty():\t\t\t    \n",
        "            return self.tail.link.data\t\n",
        "\n",
        "    def display( self, msg='CircularLinkedQueue:' ):\n",
        "        print(msg, end='')\n",
        "        if not self.isEmpty() :\n",
        "            node = self.tail.link\t\t    \n",
        "            while not node == self.tail :\t\n",
        "                print(node.data, end=' ')\t\n",
        "                node = node.link\t\t    \n",
        "            print(node.data, end=' ')\t\t\n",
        "        print()\t\t\t"
      ],
      "execution_count": null,
      "outputs": []
    },
    {
      "cell_type": "code",
      "metadata": {
        "colab": {
          "base_uri": "https://localhost:8080/"
        },
        "id": "DXDjqvFhjxIG",
        "outputId": "4fe7b438-e4d2-4af6-f48e-435799a096f5"
      },
      "source": [
        "q = CircularLinkedQueue()\n",
        "for i in range(8): q.enqueue(i)\t\t\n",
        "q.display()\t\t\t            \t\n",
        "for i in range(5): q.dequeue();\t\t\n",
        "q.display()\n",
        "for i in range(8,14): q.enqueue(i)\t\n",
        "q.display()"
      ],
      "execution_count": null,
      "outputs": [
        {
          "output_type": "stream",
          "name": "stdout",
          "text": [
            "CircularLinkedQueue:\n",
            "CircularLinkedQueue:\n",
            "CircularLinkedQueue:\n"
          ]
        }
      ]
    },
    {
      "cell_type": "markdown",
      "source": [
        "용량 제한이 없고, 삽입/삭제가 모두 O(1)"
      ],
      "metadata": {
        "id": "XNsboNN80IYn"
      }
    }
  ]
}