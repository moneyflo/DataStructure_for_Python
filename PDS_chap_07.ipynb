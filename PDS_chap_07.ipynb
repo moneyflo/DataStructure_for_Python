{
  "nbformat": 4,
  "nbformat_minor": 0,
  "metadata": {
    "colab": {
      "name": "PDS_chap_07.ipynb",
      "provenance": [],
      "collapsed_sections": []
    },
    "kernelspec": {
      "name": "python3",
      "display_name": "Python 3"
    },
    "language_info": {
      "name": "python"
    }
  },
  "cells": [
    {
      "cell_type": "markdown",
      "metadata": {
        "id": "qNoXLYKpCS8E"
      },
      "source": [
        "# Chapter 07 정렬과 탐색"
      ]
    },
    {
      "cell_type": "markdown",
      "metadata": {
        "id": "-LS1Dv9hErrX"
      },
      "source": [
        "## 7.2 간단한 정렬 알고리즘"
      ]
    },
    {
      "cell_type": "markdown",
      "metadata": {
        "id": "aR4sDKIsEuU-"
      },
      "source": [
        "### 선택 정렬"
      ]
    },
    {
      "cell_type": "code",
      "metadata": {
        "id": "krVyYPGRCQKl"
      },
      "source": [
        "def selection_sort(A):\n",
        "    n = len(A)\n",
        "    for i in range(n-1):\n",
        "        least = i\n",
        "        for j in range(i+1, n):\n",
        "            if A[j] < A[least]:\n",
        "                least = j\n",
        "        A[i], A[least] = A[least], A[i]\n",
        "        printStep(A, i+1)\n",
        "\n",
        "def printStep(arr, val):\n",
        "    print(\"  Step %2d = \" % val, end='')\n",
        "    print(arr)"
      ],
      "execution_count": 1,
      "outputs": []
    },
    {
      "cell_type": "code",
      "metadata": {
        "colab": {
          "base_uri": "https://localhost:8080/"
        },
        "id": "nOqZgmjGF9gF",
        "outputId": "6161c78d-760e-4f5c-a14d-bd6d937016a2"
      },
      "source": [
        "data = [5, 3, 8, 4, 9, 1, 6, 2, 7]\n",
        "print(\"Original  :\", data)\n",
        "selection_sort(data)\n",
        "print(\"Selection :\", data)"
      ],
      "execution_count": 2,
      "outputs": [
        {
          "output_type": "stream",
          "name": "stdout",
          "text": [
            "Original  : [5, 3, 8, 4, 9, 1, 6, 2, 7]\n",
            "  Step  1 = [1, 3, 8, 4, 9, 5, 6, 2, 7]\n",
            "  Step  2 = [1, 2, 8, 4, 9, 5, 6, 3, 7]\n",
            "  Step  3 = [1, 2, 3, 4, 9, 5, 6, 8, 7]\n",
            "  Step  4 = [1, 2, 3, 4, 9, 5, 6, 8, 7]\n",
            "  Step  5 = [1, 2, 3, 4, 5, 9, 6, 8, 7]\n",
            "  Step  6 = [1, 2, 3, 4, 5, 6, 9, 8, 7]\n",
            "  Step  7 = [1, 2, 3, 4, 5, 6, 7, 8, 9]\n",
            "  Step  8 = [1, 2, 3, 4, 5, 6, 7, 8, 9]\n",
            "Selection : [1, 2, 3, 4, 5, 6, 7, 8, 9]\n"
          ]
        }
      ]
    },
    {
      "cell_type": "markdown",
      "metadata": {
        "id": "ew1fSfwRODXC"
      },
      "source": [
        "### 삽입 정렬"
      ]
    },
    {
      "cell_type": "code",
      "metadata": {
        "id": "qyYSqkdkNs3s"
      },
      "source": [
        "def insertion_sort(A):\n",
        "    n = len(A)\n",
        "    for i in range(1, n):\n",
        "        key = A[i]\n",
        "        j = i-1\n",
        "        while j>=0 and A[j] > key:\n",
        "            A[j+1] = A[j]\n",
        "            j -= 1\n",
        "        A[j+1] = key\n",
        "        printStep(A, i)"
      ],
      "execution_count": 3,
      "outputs": []
    },
    {
      "cell_type": "code",
      "metadata": {
        "colab": {
          "base_uri": "https://localhost:8080/"
        },
        "id": "AjlNbecjGMk1",
        "outputId": "5848a451-439f-460b-f4a0-12e1f4508021"
      },
      "source": [
        "data = [5, 3, 8, 4, 9, 1, 6, 2, 7]\n",
        "print(\"Original  :\", data)\n",
        "insertion_sort(data)\n",
        "print(\"Selection :\", data)"
      ],
      "execution_count": 4,
      "outputs": [
        {
          "output_type": "stream",
          "name": "stdout",
          "text": [
            "Original  : [5, 3, 8, 4, 9, 1, 6, 2, 7]\n",
            "  Step  1 = [3, 5, 8, 4, 9, 1, 6, 2, 7]\n",
            "  Step  2 = [3, 5, 8, 4, 9, 1, 6, 2, 7]\n",
            "  Step  3 = [3, 4, 5, 8, 9, 1, 6, 2, 7]\n",
            "  Step  4 = [3, 4, 5, 8, 9, 1, 6, 2, 7]\n",
            "  Step  5 = [1, 3, 4, 5, 8, 9, 6, 2, 7]\n",
            "  Step  6 = [1, 3, 4, 5, 6, 8, 9, 2, 7]\n",
            "  Step  7 = [1, 2, 3, 4, 5, 6, 8, 9, 7]\n",
            "  Step  8 = [1, 2, 3, 4, 5, 6, 7, 8, 9]\n",
            "Selection : [1, 2, 3, 4, 5, 6, 7, 8, 9]\n"
          ]
        }
      ]
    },
    {
      "cell_type": "markdown",
      "metadata": {
        "id": "Nie1EapgT_-H"
      },
      "source": [
        "### 버블 정렬"
      ]
    },
    {
      "cell_type": "code",
      "metadata": {
        "id": "mkuaQuvFRR57"
      },
      "source": [
        "def bubble_sort(A):\n",
        "    n = len(A)\n",
        "    for i in range(n-1, 0, -1):\n",
        "        bChanged = False\n",
        "        for j in range(i):\n",
        "            if A[j] > A[j+1]:\n",
        "                A[j], A[j+1] = A[j+1], A[j]\n",
        "                bChanged = True\n",
        "\n",
        "        if not bChanged: break\n",
        "        printStep(A, n-1)"
      ],
      "execution_count": 5,
      "outputs": []
    },
    {
      "cell_type": "code",
      "metadata": {
        "colab": {
          "base_uri": "https://localhost:8080/"
        },
        "id": "3ofmDN5VVGQ2",
        "outputId": "10282fec-35e8-47a4-9bf0-719a090262ab"
      },
      "source": [
        "data = [5, 3, 8, 4, 9, 1, 6, 2, 7]\n",
        "print(\"Original  :\", data)\n",
        "bubble_sort(data)\n",
        "print(\"Selection :\", data)"
      ],
      "execution_count": 6,
      "outputs": [
        {
          "output_type": "stream",
          "name": "stdout",
          "text": [
            "Original  : [5, 3, 8, 4, 9, 1, 6, 2, 7]\n",
            "  Step  8 = [3, 5, 4, 8, 1, 6, 2, 7, 9]\n",
            "  Step  8 = [3, 4, 5, 1, 6, 2, 7, 8, 9]\n",
            "  Step  8 = [3, 4, 1, 5, 2, 6, 7, 8, 9]\n",
            "  Step  8 = [3, 1, 4, 2, 5, 6, 7, 8, 9]\n",
            "  Step  8 = [1, 3, 2, 4, 5, 6, 7, 8, 9]\n",
            "  Step  8 = [1, 2, 3, 4, 5, 6, 7, 8, 9]\n",
            "Selection : [1, 2, 3, 4, 5, 6, 7, 8, 9]\n"
          ]
        }
      ]
    },
    {
      "cell_type": "markdown",
      "metadata": {
        "id": "QUGs4z80a_xz"
      },
      "source": [
        "## 7.3 정렬 응용: 집합 다시 보기"
      ]
    },
    {
      "cell_type": "code",
      "metadata": {
        "id": "oZaA0h3rcAFM"
      },
      "source": [
        "# 집합\n",
        "class Set:\n",
        "    def __init__(self):\n",
        "        self.items = []\n",
        "\n",
        "    def size(self):\n",
        "        return len(self.items)\n",
        "    def dispaly(self, msg):\n",
        "        print(msg, self.items)\n",
        "    def contains(self, item):\n",
        "        return item in self.items\n",
        "    \n",
        "    # 삽입 연산 변경\n",
        "    def insert(self, elem):\n",
        "        if elem in self.items: return\n",
        "        for idx in range(len(self.items)):\n",
        "            if elem < self.items[idx]:\n",
        "                self.items.insert(idx, elem)\n",
        "                return\n",
        "        self.items.append(elem)\n",
        "\n",
        "    def delete(self, elem):\n",
        "        if elem in self.items:\n",
        "            self.items.remove(elem)\n",
        "\n",
        "    # 합집합 변경, 교, 차도 비슷하게 변경 가능 시험낼거같\n",
        "    def union(self, setB):\n",
        "        newSet = Set()\n",
        "        a = 0\n",
        "        b = 0\n",
        "        while a < len(self.items) and b < len(setB.items):\n",
        "            valueA = self.items[a]\n",
        "            valueB = self.items[b]\n",
        "            if valueA < valueB:\n",
        "                newSet.items.append(valueA)\n",
        "                a += 1\n",
        "            elif valueA > valueB:\n",
        "                newSet.items.append(valueB)\n",
        "                b += 1\n",
        "            else:\n",
        "                newSet.items.append(valueA)\n",
        "                a += 1\n",
        "                b += 1\n",
        "        while a < len(self.items):\n",
        "            newSet.items.append(self.items[a])\n",
        "            a += 1\n",
        "        while b < len(setB.items):\n",
        "            newSet.items.append(self.items[b])\n",
        "            b += 1\n",
        "        return newSet\n",
        "\n",
        "    def intersect(self, setB):\n",
        "        setC = Set()\n",
        "        for elem in setB.items:\n",
        "            if elem in self.items:\n",
        "                setC.items.append(elem)\n",
        "        return setC\n",
        "    def difference(self, setB):\n",
        "        setC = Set()\n",
        "        for elem in self.items:\n",
        "            if elem not in setB.items:\n",
        "                setC.items.append(elem)\n",
        "        return setC\n",
        "    \n",
        "    # 비교 연산 추가\n",
        "    def __eq__(self, setB):\n",
        "        if self.size() != setB.size():\n",
        "            return False\n",
        "        for idx in range(len(self.items)):\n",
        "            if self.items[idx] != setB.items[idx]:\n",
        "                return False\n",
        "        return True\n"
      ],
      "execution_count": 7,
      "outputs": []
    },
    {
      "cell_type": "markdown",
      "metadata": {
        "id": "-eNm1YzqgFSJ"
      },
      "source": [
        "## 7.4 탐색과 맵 구조"
      ]
    },
    {
      "cell_type": "markdown",
      "metadata": {
        "id": "ThM0x9rDg5km"
      },
      "source": [
        "### 맵 ADT\n",
        "    데이터 : 키를 가진 레코드(엔트리)의 집합\n",
        "    연산\n",
        "    * search(key)\n",
        "    * insert(entry)\n",
        "    * delete(key)"
      ]
    },
    {
      "cell_type": "markdown",
      "metadata": {
        "id": "yz6Y7EpVhQ4E"
      },
      "source": [
        "## 7.5 간단한 탐색 알고리즘"
      ]
    },
    {
      "cell_type": "markdown",
      "metadata": {
        "id": "K2Ia-6i1hdvZ"
      },
      "source": [
        "### 순차 탐색 알고리즘"
      ]
    },
    {
      "cell_type": "code",
      "metadata": {
        "id": "wVFpRCHaVJao"
      },
      "source": [
        "def sequential_search(A, key, low, high):\n",
        "    for i in range(low, high+1):\n",
        "        if A[i].key == key:\n",
        "            return i\n",
        "\n",
        "    return None"
      ],
      "execution_count": 19,
      "outputs": []
    },
    {
      "cell_type": "markdown",
      "metadata": {
        "id": "5etCaEl3h0QJ"
      },
      "source": [
        "### 이진 탐색\n",
        "* 정렬된 데이터에 대해\n",
        "* 시간 복잡도 : O(logn)"
      ]
    },
    {
      "cell_type": "code",
      "metadata": {
        "id": "l5gGd3RUbwVA"
      },
      "source": [
        "def binary_search(A, key, low, high):\n",
        "    if low <= high:\n",
        "        middle = (low + high) // 2\n",
        "        if key == A[middle].key:\n",
        "            return middle\n",
        "        elif key < A[middle].key:\n",
        "            return binary_search(A, key, low, middle-1)\n",
        "        else:\n",
        "            return binary_search(A, key, middle-1, high)\n",
        "    return None     # 탐색 실패"
      ],
      "execution_count": 9,
      "outputs": []
    },
    {
      "cell_type": "markdown",
      "metadata": {
        "id": "ojWZYmwyZGUX"
      },
      "source": [
        "## 7.6 고급 탐색 구조: 해싱"
      ]
    },
    {
      "cell_type": "markdown",
      "metadata": {
        "id": "03vqQjhoZMIX"
      },
      "source": [
        "### 해시 함수"
      ]
    },
    {
      "cell_type": "code",
      "metadata": {
        "id": "fjC6W6lXZLr2"
      },
      "source": [
        "# 탐색키가 문자열인 경우\n",
        "def hashFn(key):\n",
        "    sum = 0\n",
        "    for c in key:\n",
        "        sum += ord(c)   # 그 문자의 아스키 코드 값을 sum에 더함\n",
        "    return sum % M"
      ],
      "execution_count": 10,
      "outputs": []
    },
    {
      "cell_type": "markdown",
      "metadata": {
        "id": "CiJpa5L0dtYN"
      },
      "source": [
        "## 7.7 맵의 응용: 나의 단어장"
      ]
    },
    {
      "cell_type": "markdown",
      "metadata": {
        "id": "QkdsugEad0tH"
      },
      "source": [
        "### 엔트리 클래스"
      ]
    },
    {
      "cell_type": "code",
      "metadata": {
        "id": "542Pf952ZcyU"
      },
      "source": [
        "class Entry:\n",
        "    def __init__(self, key, value):\n",
        "        self.key = key\n",
        "        self.value = value\n",
        "\n",
        "    def __str__(self):\n",
        "        return str(\"%s:%s\"%(self.key, self.value))"
      ],
      "execution_count": 14,
      "outputs": []
    },
    {
      "cell_type": "markdown",
      "metadata": {
        "id": "ll6wekA2eZ3i"
      },
      "source": [
        "### 리스트를 이용한 순차탐색 맵"
      ]
    },
    {
      "cell_type": "code",
      "metadata": {
        "id": "6GKLP8JWec_Q"
      },
      "source": [
        "class SequentialMap:\n",
        "    def __init__(self):\n",
        "        self.table = []\n",
        "    def size( self ): return len(self.table)\t\n",
        "    def display(self, msg):\t\t\t\t    \t\n",
        "        print(msg)\n",
        "        for entry in self.table :\t\t\t\t\n",
        "            print(\"  \", entry)\t\n",
        "    \n",
        "    def insert(self, key, value):\n",
        "        self.table.append(Entry(key, value))\n",
        "\n",
        "    def search(self, key):\n",
        "        pos = sequential_search(self.table, key, 0, self.size()-1)\n",
        "        if pos is not None: return self.table[pos]\n",
        "        else: return None\n",
        "\n",
        "    def delete(self, key):\n",
        "        for i in range(self.size()):\n",
        "            if self.table[i].key == key:\n",
        "                self.table.pop(i)\n",
        "                return"
      ],
      "execution_count": 17,
      "outputs": []
    },
    {
      "cell_type": "code",
      "metadata": {
        "colab": {
          "base_uri": "https://localhost:8080/"
        },
        "id": "9Lgv06R_fIAB",
        "outputId": "29344ea8-cbbf-46f5-b2e0-83fc5b345825"
      },
      "source": [
        "map = SequentialMap()\t\t\t\t\t\t\n",
        "map.insert('data', '자료')\t\t\t\t\t\n",
        "map.insert('structure', '구조')\n",
        "map.insert('sequential search', '선형 탐색')\n",
        "map.insert('game', '게임')\n",
        "map.insert('binary search', '이진 탐색')\t\n",
        "map.display(\"나의 단어장: \")\t\t\t\n",
        "\n",
        "print(\"탐색:game --> \", map.search('game'))\t\n",
        "print(\"탐색:over --> \", map.search('over'))\n",
        "print(\"탐색:data --> \", map.search('data'))\n",
        "\n",
        "map.delete('game')\t\t\t\t\t\t\n",
        "map.display(\"나의 단어장: \")"
      ],
      "execution_count": 20,
      "outputs": [
        {
          "output_type": "stream",
          "name": "stdout",
          "text": [
            "나의 단어장: \n",
            "   data:자료\n",
            "   structure:구조\n",
            "   sequential search:선형 탐색\n",
            "   game:게임\n",
            "   binary search:이진 탐색\n",
            "탐색:game -->  game:게임\n",
            "탐색:over -->  None\n",
            "탐색:data -->  data:자료\n",
            "나의 단어장: \n",
            "   data:자료\n",
            "   structure:구조\n",
            "   sequential search:선형 탐색\n",
            "   binary search:이진 탐색\n"
          ]
        }
      ]
    },
    {
      "cell_type": "markdown",
      "metadata": {
        "id": "fEVDCs6phtWF"
      },
      "source": [
        "### 체이닝을 이용한 해시 맵"
      ]
    },
    {
      "cell_type": "code",
      "metadata": {
        "id": "_pLbj-zgftTH"
      },
      "source": [
        "class Node:\n",
        "    def __init__( self, data, link=None ):\n",
        "        self.data = data\n",
        "        self.link = link\n",
        "\n",
        "class HashChainMap:\n",
        "    def __init__(self, M):\n",
        "        self.table = [None]*M  # 해시 테이블\n",
        "        self.M = M\n",
        "\n",
        "    def hashFn(self, key):\n",
        "        sum = 0\n",
        "        for c in key:\n",
        "            sum += ord(c)\n",
        "        return sum % self.M\n",
        "\n",
        "    def insert(self, key, value):\n",
        "        idx = self.hashFn(key)\n",
        "        self.table[idx] = Node(Entry(key, value), self.table[idx])\n",
        "\n",
        "    def search(self, key) :\n",
        "        idx = self.hashFn(key)\n",
        "        node = self.table[idx]\n",
        "        while node is not None:\n",
        "            if node.data.key == key :\n",
        "                return node.data\n",
        "            node = node.link\n",
        "        return None\n",
        "\n",
        "    def delete(self, key) :\n",
        "        idx = self.hashFn(key)\n",
        "        node = self.table[idx]\n",
        "        before = None\n",
        "        while node is not None:         \t\t\n",
        "            if node.data.key == key :   \t\t\n",
        "                if before == None :     \t\t\n",
        "                    self.table[idx] = node.link\n",
        "                else :                  \t\t\n",
        "                    before.link = node.link\n",
        "                return\n",
        "            before = node\t\t\t\t\t\t\n",
        "            node = node.link\t\t\t\t\t\n",
        "\n",
        "    def display(self, msg):\n",
        "        print(msg)\n",
        "        for idx in range(len(self.table)) :\n",
        "            node = self.table[idx]\n",
        "            if node is not None :\n",
        "                print(\"[%2d] -> \"%idx, end='')\n",
        "                while node is not None:\n",
        "                    print(node.data, end=' -> ')\n",
        "                    node = node.link\n",
        "                print()"
      ],
      "execution_count": 21,
      "outputs": []
    },
    {
      "cell_type": "code",
      "metadata": {
        "colab": {
          "base_uri": "https://localhost:8080/"
        },
        "id": "mNRbxTEaj2La",
        "outputId": "ee4ca3d1-421a-4f10-b0e6-f18d56864265"
      },
      "source": [
        "map = HashChainMap(5)\t\t\t\t\t\t\n",
        "map.insert('data', '자료')\t\t\t\t\t\n",
        "map.insert('structure', '구조')\n",
        "map.insert('sequential search', '선형 탐색')\n",
        "map.insert('game', '게임')\n",
        "map.insert('binary search', '이진 탐색')\t\n",
        "map.display(\"나의 단어장: \")\t\t\t\n",
        "\n",
        "print(\"탐색:game --> \", map.search('game'))\t\n",
        "print(\"탐색:over --> \", map.search('over'))\n",
        "print(\"탐색:data --> \", map.search('data'))\n",
        "\n",
        "map.delete('game')\t\t\t\t\t\t\n",
        "map.display(\"나의 단어장: \")"
      ],
      "execution_count": 24,
      "outputs": [
        {
          "output_type": "stream",
          "name": "stdout",
          "text": [
            "나의 단어장: \n",
            "[ 0] -> game:게임 -> sequential search:선형 탐색 -> data:자료 -> \n",
            "[ 2] -> binary search:이진 탐색 -> \n",
            "[ 4] -> structure:구조 -> \n",
            "탐색:game -->  game:게임\n",
            "탐색:over -->  None\n",
            "탐색:data -->  data:자료\n",
            "나의 단어장: \n",
            "[ 0] -> sequential search:선형 탐색 -> data:자료 -> \n",
            "[ 2] -> binary search:이진 탐색 -> \n",
            "[ 4] -> structure:구조 -> \n"
          ]
        }
      ]
    },
    {
      "cell_type": "markdown",
      "metadata": {
        "id": "EVko_VSwi7U0"
      },
      "source": [
        "### 파이썬의 딕셔너리를 이용한 구현"
      ]
    },
    {
      "cell_type": "code",
      "metadata": {
        "colab": {
          "base_uri": "https://localhost:8080/"
        },
        "id": "Br0fW-eGisXV",
        "outputId": "f128e4f5-606f-4fd6-bf17-37d5fb45a170"
      },
      "source": [
        "d = {}\t\t\t\t\t\t\t\t\t\n",
        "d['data'] =  '자료'\t\t\t\t\t\t\n",
        "d['structure'] = '구조'\n",
        "d['sequential search'] = '선형 탐색'\n",
        "d['game'] = '게임'\n",
        "d['binary search'] = '이진 탐색'\n",
        "print(\"나의 단어장:\")\n",
        "print(d)\t\t\t\t\t\t\t\t\n",
        "\n",
        "if d.get('game') : print(\"탐색:game --> \", d['game'])\n",
        "if d.get('over') : print(\"탐색:over --> \", d['over'])\n",
        "if d.get('data') : print(\"탐색:data --> \", d['data'])\n",
        "\n",
        "d.pop('game')\t\t\t\t\t\t\n",
        "print(\"나의 단어장:\")\n",
        "print(d)"
      ],
      "execution_count": 22,
      "outputs": [
        {
          "output_type": "stream",
          "name": "stdout",
          "text": [
            "나의 단어장:\n",
            "{'data': '자료', 'structure': '구조', 'sequential search': '선형 탐색', 'game': '게임', 'binary search': '이진 탐색'}\n",
            "탐색:game -->  게임\n",
            "탐색:data -->  자료\n",
            "나의 단어장:\n",
            "{'data': '자료', 'structure': '구조', 'sequential search': '선형 탐색', 'binary search': '이진 탐색'}\n"
          ]
        }
      ]
    }
  ]
}
