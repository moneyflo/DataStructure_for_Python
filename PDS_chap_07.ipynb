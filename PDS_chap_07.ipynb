{
  "nbformat": 4,
  "nbformat_minor": 0,
  "metadata": {
    "colab": {
      "name": "PDS_chap_07.ipynb",
      "provenance": [],
      "collapsed_sections": []
    },
    "kernelspec": {
      "name": "python3",
      "display_name": "Python 3"
    },
    "language_info": {
      "name": "python"
    }
  },
  "cells": [
    {
      "cell_type": "markdown",
      "metadata": {
        "id": "qNoXLYKpCS8E"
      },
      "source": [
        "# Chapter 07 정렬과 탐색"
      ]
    },
    {
      "cell_type": "markdown",
      "metadata": {
        "id": "-LS1Dv9hErrX"
      },
      "source": [
        "## 7.2 간단한 정렬 알고리즘"
      ]
    },
    {
      "cell_type": "markdown",
      "metadata": {
        "id": "aR4sDKIsEuU-"
      },
      "source": [
        "### 선택 정렬"
      ]
    },
    {
      "cell_type": "code",
      "metadata": {
        "id": "krVyYPGRCQKl"
      },
      "source": [
        "def selection_sort(A):\n",
        "    n = len(A)\n",
        "    for i in range(n-1):\n",
        "        least = i\n",
        "        for j in range(i+1, n):\n",
        "            if A[j] < A[least]:\n",
        "                least = j\n",
        "        A[i], A[least] = A[least], A[i]\n",
        "        printStep(A, i+1)\n",
        "\n",
        "def printStep(arr, val):\n",
        "    print(\"  Step %2d = \" % val, end='')\n",
        "    print(arr)"
      ],
      "execution_count": 26,
      "outputs": []
    },
    {
      "cell_type": "code",
      "metadata": {
        "colab": {
          "base_uri": "https://localhost:8080/"
        },
        "id": "nOqZgmjGF9gF",
        "outputId": "23ac83fc-7c38-40ee-f3c1-8ae5abe64624"
      },
      "source": [
        "data = [5, 3, 8, 4, 9, 1, 6, 2, 7]\n",
        "print(\"Original  :\", data)\n",
        "selection_sort(data)\n",
        "print(\"Selection :\", data)"
      ],
      "execution_count": 27,
      "outputs": [
        {
          "output_type": "stream",
          "name": "stdout",
          "text": [
            "Original  : [5, 3, 8, 4, 9, 1, 6, 2, 7]\n",
            "  Step  1 = [1, 3, 8, 4, 9, 5, 6, 2, 7]\n",
            "  Step  2 = [1, 2, 8, 4, 9, 5, 6, 3, 7]\n",
            "  Step  3 = [1, 2, 3, 4, 9, 5, 6, 8, 7]\n",
            "  Step  4 = [1, 2, 3, 4, 9, 5, 6, 8, 7]\n",
            "  Step  5 = [1, 2, 3, 4, 5, 9, 6, 8, 7]\n",
            "  Step  6 = [1, 2, 3, 4, 5, 6, 9, 8, 7]\n",
            "  Step  7 = [1, 2, 3, 4, 5, 6, 7, 8, 9]\n",
            "  Step  8 = [1, 2, 3, 4, 5, 6, 7, 8, 9]\n",
            "Selection : [1, 2, 3, 4, 5, 6, 7, 8, 9]\n"
          ]
        }
      ]
    },
    {
      "cell_type": "markdown",
      "metadata": {
        "id": "ew1fSfwRODXC"
      },
      "source": [
        "### 삽입 정렬"
      ]
    },
    {
      "cell_type": "code",
      "metadata": {
        "id": "qyYSqkdkNs3s"
      },
      "source": [
        "def insertion_sort(A):\n",
        "    n = len(A)\n",
        "    for i in range(1, n):\n",
        "        key = A[i]\n",
        "        j = i-1\n",
        "        while j>=0 and A[j] > key:\n",
        "            A[j+1] = A[j]\n",
        "            j -= 1\n",
        "        A[j+1] = key\n",
        "        printStep(A, i)"
      ],
      "execution_count": 28,
      "outputs": []
    },
    {
      "cell_type": "code",
      "metadata": {
        "colab": {
          "base_uri": "https://localhost:8080/"
        },
        "id": "AjlNbecjGMk1",
        "outputId": "35527a28-492b-4479-f51b-ae06982ddce4"
      },
      "source": [
        "data = [5, 3, 8, 4, 9, 1, 6, 2, 7]\n",
        "print(\"Original  :\", data)\n",
        "insertion_sort(data)\n",
        "print(\"Selection :\", data)"
      ],
      "execution_count": 29,
      "outputs": [
        {
          "output_type": "stream",
          "name": "stdout",
          "text": [
            "Original  : [5, 3, 8, 4, 9, 1, 6, 2, 7]\n",
            "  Step  1 = [3, 5, 8, 4, 9, 1, 6, 2, 7]\n",
            "  Step  2 = [3, 5, 8, 4, 9, 1, 6, 2, 7]\n",
            "  Step  3 = [3, 4, 5, 8, 9, 1, 6, 2, 7]\n",
            "  Step  4 = [3, 4, 5, 8, 9, 1, 6, 2, 7]\n",
            "  Step  5 = [1, 3, 4, 5, 8, 9, 6, 2, 7]\n",
            "  Step  6 = [1, 3, 4, 5, 6, 8, 9, 2, 7]\n",
            "  Step  7 = [1, 2, 3, 4, 5, 6, 8, 9, 7]\n",
            "  Step  8 = [1, 2, 3, 4, 5, 6, 7, 8, 9]\n",
            "Selection : [1, 2, 3, 4, 5, 6, 7, 8, 9]\n"
          ]
        }
      ]
    },
    {
      "cell_type": "markdown",
      "metadata": {
        "id": "Nie1EapgT_-H"
      },
      "source": [
        "### 버블 정렬"
      ]
    },
    {
      "cell_type": "code",
      "metadata": {
        "id": "mkuaQuvFRR57"
      },
      "source": [
        "def bubble_sort(A):\n",
        "    n = len(A)\n",
        "    for i in range(n-1, 0, -1):\n",
        "        bChanged = False\n",
        "        for j in range(i):\n",
        "            if A[j] > A[j+1]:\n",
        "                A[j], A[j+1] = A[j+1], A[j]\n",
        "                bChanged = True\n",
        "\n",
        "        if not bChanged: break\n",
        "        printStep(A, n-1)"
      ],
      "execution_count": 30,
      "outputs": []
    },
    {
      "cell_type": "code",
      "metadata": {
        "colab": {
          "base_uri": "https://localhost:8080/"
        },
        "id": "3ofmDN5VVGQ2",
        "outputId": "a3e846e4-19bc-48f2-fd7b-8096c7211e99"
      },
      "source": [
        "data = [5, 3, 8, 4, 9, 1, 6, 2, 7]\n",
        "print(\"Original  :\", data)\n",
        "bubble_sort(data)\n",
        "print(\"Selection :\", data)"
      ],
      "execution_count": 31,
      "outputs": [
        {
          "output_type": "stream",
          "name": "stdout",
          "text": [
            "Original  : [5, 3, 8, 4, 9, 1, 6, 2, 7]\n",
            "  Step  8 = [3, 5, 4, 8, 1, 6, 2, 7, 9]\n",
            "  Step  8 = [3, 4, 5, 1, 6, 2, 7, 8, 9]\n",
            "  Step  8 = [3, 4, 1, 5, 2, 6, 7, 8, 9]\n",
            "  Step  8 = [3, 1, 4, 2, 5, 6, 7, 8, 9]\n",
            "  Step  8 = [1, 3, 2, 4, 5, 6, 7, 8, 9]\n",
            "  Step  8 = [1, 2, 3, 4, 5, 6, 7, 8, 9]\n",
            "Selection : [1, 2, 3, 4, 5, 6, 7, 8, 9]\n"
          ]
        }
      ]
    },
    {
      "cell_type": "markdown",
      "metadata": {
        "id": "QUGs4z80a_xz"
      },
      "source": [
        "## 7.3 정렬 응용: 집합 다시 보기"
      ]
    },
    {
      "cell_type": "code",
      "metadata": {
        "id": "oZaA0h3rcAFM"
      },
      "source": [
        "# 집합\n",
        "class Set:\n",
        "    def __init__(self):\n",
        "        self.items = []\n",
        "\n",
        "    def size(self):\n",
        "        return len(self.items)\n",
        "    def dispaly(self, msg):\n",
        "        print(msg, self.items)\n",
        "    def contains(self, item):\n",
        "        return item in self.items\n",
        "    \n",
        "    # 삽입 연산 변경\n",
        "    def insert(self, elem):\n",
        "        if elem in self.items: return\n",
        "        for idx in range(len(self.items)):\n",
        "            if elem < self.items[idx]:\n",
        "                self.items.insert(idx, elem)\n",
        "                return\n",
        "        self.items.append(elem)\n",
        "\n",
        "    def delete(self, elem):\n",
        "        if elem in self.items:\n",
        "            self.items.remove(elem)\n",
        "\n",
        "    # 합집합 변경, 교, 차도 비슷하게 변경 가능 시험낼거같\n",
        "    def union(self, setB):\n",
        "        newSet = Set()\n",
        "        a = 0\n",
        "        b = 0\n",
        "        while a < len(self.items) and b < len(setB.items):\n",
        "            valueA = self.items[a]\n",
        "            valueB = self.items[b]\n",
        "            if valueA < valueB:\n",
        "                newSet.items.append(valueA)\n",
        "                a += 1\n",
        "            elif valueA > valueB:\n",
        "                newSet.items.append(valueB)\n",
        "                b += 1\n",
        "            else:\n",
        "                newSet.items.append(valueA)\n",
        "                a += 1\n",
        "                b += 1\n",
        "        while a < len(self.items):\n",
        "            newSet.items.append(self.items[a])\n",
        "            a += 1\n",
        "        while b < len(setB.items):\n",
        "            newSet.items.append(self.items[b])\n",
        "            b += 1\n",
        "        return newSet\n",
        "\n",
        "    def intersect(self, setB):\n",
        "        setC = Set()\n",
        "        for elem in setB.items:\n",
        "            if elem in self.items:\n",
        "                setC.items.append(elem)\n",
        "        return setC\n",
        "    def difference(self, setB):\n",
        "        setC = Set()\n",
        "        for elem in self.items:\n",
        "            if elem not in setB.items:\n",
        "                setC.items.append(elem)\n",
        "        return setC\n",
        "    \n",
        "    # 비교 연산 추가\n",
        "    def __eq__(self, setB):\n",
        "        if self.size() != setB.size():\n",
        "            return False\n",
        "        for idx in range(len(self.items)):\n",
        "            if self.items[idx] != setB.items[idx]:\n",
        "                return False\n",
        "        return True\n"
      ],
      "execution_count": 35,
      "outputs": []
    },
    {
      "cell_type": "markdown",
      "metadata": {
        "id": "-eNm1YzqgFSJ"
      },
      "source": [
        "## 7.4 탐색과 맵 구조"
      ]
    },
    {
      "cell_type": "markdown",
      "metadata": {
        "id": "ThM0x9rDg5km"
      },
      "source": [
        "### 맵 ADT\n",
        "    데이터 : 키를 가진 레코드(엔트리)의 집합\n",
        "    연산\n",
        "    * search(key)\n",
        "    * insert(entry)\n",
        "    * delete(key)"
      ]
    },
    {
      "cell_type": "markdown",
      "metadata": {
        "id": "yz6Y7EpVhQ4E"
      },
      "source": [
        "## 7.5 간단한 탐색 알고리즘"
      ]
    },
    {
      "cell_type": "markdown",
      "metadata": {
        "id": "K2Ia-6i1hdvZ"
      },
      "source": [
        "### 순차 탐색 알고리즘"
      ]
    },
    {
      "cell_type": "code",
      "metadata": {
        "id": "wVFpRCHaVJao"
      },
      "source": [
        "def sequential_search(A, key, low, high):\n",
        "    for i in range(low, high+1):\n",
        "        if A[i].key == key:\n",
        "            return i\n",
        "\n",
        "    return none"
      ],
      "execution_count": 36,
      "outputs": []
    },
    {
      "cell_type": "markdown",
      "metadata": {
        "id": "5etCaEl3h0QJ"
      },
      "source": [
        "### 이진 탐색\n",
        "* 정렬된 데이터에 대해\n",
        "* 시간 복잡도 : O(logn)"
      ]
    },
    {
      "cell_type": "code",
      "metadata": {
        "id": "l5gGd3RUbwVA"
      },
      "source": [
        "def binary_search(A, key, low, high):\n",
        "    if low <= high:\n",
        "        middle = (low + high) // 2\n",
        "        if key == A[middle].key:\n",
        "            return middle\n",
        "        elif key < A[middle].key:\n",
        "            return binary_search(A, key, low, middle-1)\n",
        "        else:\n",
        "            return binary_search(A, key, middle-1, high)\n",
        "    return None     # 탐색 실패"
      ],
      "execution_count": null,
      "outputs": []
    }
  ]
}