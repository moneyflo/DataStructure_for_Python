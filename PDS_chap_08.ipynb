{
  "nbformat": 4,
  "nbformat_minor": 0,
  "metadata": {
    "colab": {
      "name": "PDS_chap_08.ipynb",
      "provenance": [],
      "collapsed_sections": []
    },
    "kernelspec": {
      "name": "python3",
      "display_name": "Python 3"
    },
    "language_info": {
      "name": "python"
    }
  },
  "cells": [
    {
      "cell_type": "markdown",
      "metadata": {
        "id": "1G3Dr76vHkTX"
      },
      "source": [
        "# Chapter 08 트리"
      ]
    },
    {
      "cell_type": "markdown",
      "metadata": {
        "id": "jeyTR2spVWix"
      },
      "source": [
        "### 이진트리의 표현: 링크 표현법"
      ]
    },
    {
      "cell_type": "code",
      "metadata": {
        "id": "FEoyBTBSG4mu"
      },
      "source": [
        "class TNode:\n",
        "    def __init__(self, data, left, right):\n",
        "        self.data = data\n",
        "        self.left = left\n",
        "        self.right = right\n",
        "\n",
        "        "
      ],
      "execution_count": 1,
      "outputs": []
    },
    {
      "cell_type": "markdown",
      "metadata": {
        "id": "bkft9t5gYFoe"
      },
      "source": [
        "### 전위 순회"
      ]
    },
    {
      "cell_type": "code",
      "metadata": {
        "id": "vgaH__MVYE02"
      },
      "source": [
        "def preorder(n):\n",
        "    if n is not None:\n",
        "        print(n.data, end=' ')\n",
        "        preorder(n.left)\n",
        "        preorder(n.right)"
      ],
      "execution_count": 2,
      "outputs": []
    },
    {
      "cell_type": "markdown",
      "metadata": {
        "id": "AZGm3XjuZaHE"
      },
      "source": [
        "### 중위 순회"
      ]
    },
    {
      "cell_type": "code",
      "metadata": {
        "id": "GgQ7UdPmYWFw"
      },
      "source": [
        "def inorder(n):\n",
        "    if n is not None:\n",
        "        inorder(n.left)\n",
        "        print(n.data, end=' ')\n",
        "        inorder(n.right)"
      ],
      "execution_count": null,
      "outputs": []
    },
    {
      "cell_type": "markdown",
      "metadata": {
        "id": "ouieLnwWZcdm"
      },
      "source": [
        "### 후위 순회"
      ]
    },
    {
      "cell_type": "code",
      "metadata": {
        "id": "hbgD13SqZdUd"
      },
      "source": [
        "def postorder(n):\n",
        "    if n is not None:\n",
        "        postorder(n.left)\n",
        "        postorder(n.right)\n",
        "        print(n.data, end=' ')"
      ],
      "execution_count": 3,
      "outputs": []
    },
    {
      "cell_type": "markdown",
      "metadata": {
        "id": "o0s1tMpDmf59"
      },
      "source": [
        "### 레벨 순회 알고리즘"
      ]
    },
    {
      "cell_type": "code",
      "metadata": {
        "id": "voggcc60Znvh"
      },
      "source": [
        "def levelorder(root):\n",
        "    queue = CircularQueue()\n",
        "    queue.enqueue(root)"
      ],
      "execution_count": null,
      "outputs": []
    }
  ]
}