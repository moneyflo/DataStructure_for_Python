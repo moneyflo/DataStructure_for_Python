{
  "nbformat": 4,
  "nbformat_minor": 0,
  "metadata": {
    "colab": {
      "name": "PDS_chap_08.ipynb",
      "provenance": [],
      "collapsed_sections": []
    },
    "kernelspec": {
      "name": "python3",
      "display_name": "Python 3"
    },
    "language_info": {
      "name": "python"
    }
  },
  "cells": [
    {
      "cell_type": "markdown",
      "metadata": {
        "id": "1G3Dr76vHkTX"
      },
      "source": [
        "# Chapter 08 트리"
      ]
    },
    {
      "cell_type": "markdown",
      "metadata": {
        "id": "jeyTR2spVWix"
      },
      "source": [
        "### 이진트리의 표현: 링크 표현법"
      ]
    },
    {
      "cell_type": "code",
      "metadata": {
        "id": "FEoyBTBSG4mu"
      },
      "source": [
        "class TNode:\n",
        "    def __init__(self, data, left, right):\n",
        "        self.data = data\n",
        "        self.left = left\n",
        "        self.right = right\n",
        "\n",
        "        "
      ],
      "execution_count": null,
      "outputs": []
    },
    {
      "cell_type": "markdown",
      "metadata": {
        "id": "bkft9t5gYFoe"
      },
      "source": [
        "### 전위 순회"
      ]
    },
    {
      "cell_type": "code",
      "metadata": {
        "id": "vgaH__MVYE02"
      },
      "source": [
        "def preorder(n):\n",
        "    if n is not None:\n",
        "        print(n.data, end=' ')\n",
        "        preorder(n.left)\n",
        "        preorder(n.right)"
      ],
      "execution_count": null,
      "outputs": []
    },
    {
      "cell_type": "markdown",
      "metadata": {
        "id": "AZGm3XjuZaHE"
      },
      "source": [
        "### 중위 순회"
      ]
    },
    {
      "cell_type": "code",
      "metadata": {
        "id": "GgQ7UdPmYWFw"
      },
      "source": [
        "def inorder(n):\n",
        "    if n is not None:\n",
        "        inorder(n.left)\n",
        "        print(n.data, end=' ')\n",
        "        inorder(n.right)"
      ],
      "execution_count": null,
      "outputs": []
    },
    {
      "cell_type": "markdown",
      "metadata": {
        "id": "ouieLnwWZcdm"
      },
      "source": [
        "### 후위 순회"
      ]
    },
    {
      "cell_type": "code",
      "metadata": {
        "id": "hbgD13SqZdUd"
      },
      "source": [
        "def postorder(n):\n",
        "    if n is not None:\n",
        "        postorder(n.left)\n",
        "        postorder(n.right)\n",
        "        print(n.data, end=' ')"
      ],
      "execution_count": null,
      "outputs": []
    },
    {
      "cell_type": "markdown",
      "metadata": {
        "id": "o0s1tMpDmf59"
      },
      "source": [
        "### 레벨 순회 알고리즘"
      ]
    },
    {
      "cell_type": "code",
      "metadata": {
        "id": "voggcc60Znvh"
      },
      "source": [
        "def levelorder(root):\n",
        "    queue = CircularQueue()\n",
        "    queue.enqueue(root)"
      ],
      "execution_count": null,
      "outputs": []
    },
    {
      "cell_type": "markdown",
      "source": [
        "### 이진트리연산: 노드 개수, 단말 노드의 수"
      ],
      "metadata": {
        "id": "M0cF2bfSLQZP"
      }
    },
    {
      "cell_type": "code",
      "source": [
        "# 노드 개수\n",
        "def count_node(n): # 순환을 활용해 트리의 노드 수 계산함수\n",
        "    if n is None:\n",
        "        return 0\n",
        "    else:\n",
        "        return 1 + count_node(n.left) + count_node(n.right)\n",
        "\n",
        "# 단말 노드의 수\n",
        "def count_leaf(n):\n",
        "    if n is None:\n",
        "        return 0\n",
        "    elif n.left is None and n.right is None:\n",
        "        return 1\n",
        "    else:\n",
        "        return count_leaf(n.left) + count_leaf(n.right)"
      ],
      "metadata": {
        "id": "1qky-UHlLT22"
      },
      "execution_count": 1,
      "outputs": []
    },
    {
      "cell_type": "markdown",
      "source": [
        "### 이진트리연산 : 트리 높이"
      ],
      "metadata": {
        "id": "mDK3MOK3L7nt"
      }
    },
    {
      "cell_type": "code",
      "source": [
        "# 트리의 높이\n",
        "def calc_height(n):\n",
        "    if n is None:\n",
        "        return 0\n",
        "    hLeft = calc_height(n.left)\n",
        "    hRight = calc_height(n.right)\n",
        "    if hLeft > hRight:\n",
        "        return hLeft + 1\n",
        "    else:\n",
        "        return hRight + 1"
      ],
      "metadata": {
        "id": "3jpoEUfcL532"
      },
      "execution_count": 2,
      "outputs": []
    },
    {
      "cell_type": "markdown",
      "source": [
        "## 8.5 힙 트리\n",
        "* \"더미\"와 모습이 비슷한 \"완전이진트리\" 기반의 자료 구조"
      ],
      "metadata": {
        "id": "wYIn82yvMfa8"
      }
    },
    {
      "cell_type": "markdown",
      "source": [
        "### 최대 힙의 구현"
      ],
      "metadata": {
        "id": "7Mu0jW1jPVfg"
      }
    },
    {
      "cell_type": "code",
      "source": [
        "# 최대 힙 클래스\n",
        "class MaxHeap:\n",
        "    def __init__(self):\n",
        "        self.heap = []\n",
        "        self.heap.append(0)     # 0번 항목은 사용하지 않음\n",
        "\n",
        "    def size(self): return len(self.heap) - 1\n",
        "    def isEmpty(self): return self.size() == 0\n",
        "    def Parent(self, i): return self.heap[i//2]\n",
        "    def Left(self, i): return self.heap[i*2]\n",
        "    def Right(self, i): return self.heap[i*2+1]\n",
        "    def display(Self, msg='힙 트리: '):\n",
        "        print(msg, self.heap[1:])\n",
        "    def insert(self, n):\n",
        "        self.heap.append(n)\n",
        "        i = self.size()\n",
        "        while i != 1 and n > self.Parent(i):\n",
        "            self.heap[i] = self.Parent(i)\n",
        "            i = i // 2\n",
        "        self.heap[i] = n\n",
        "    \n",
        "    # 삭제연산 # 수업중에는 생략했음.\n",
        "    def delete(self):\n",
        "        parent = 1\n",
        "        child = 2\n",
        "        if not self.isEmpty():\n",
        "            hroot = self.heap[1]  # 삭제할 루트를 복사해 둠\n",
        "            last = self.heap[self.size()]\n",
        "            while child <= self.size():  # 마지막 노드 이전까지\n",
        "                # 오른쪽 노드가 더 크면 child 1 증가 (기본은 왼쪽 노드)\n",
        "                if child < self.size() and self.Left(parent) < self.Right(parent):\n",
        "                    child += 1\n",
        "                if last >= self.heap[child]:\n",
        "                    break\n",
        "                self.heap[parent] = self.heap[child]\n",
        "                parent = child\n",
        "                child *= 2\n",
        "\n",
        "            self.heap[parent] = last\n",
        "            self.heap.pop(-1)\n",
        "            return hroot"
      ],
      "metadata": {
        "id": "-ggxmqiTMPyb"
      },
      "execution_count": 5,
      "outputs": []
    }
  ]
}